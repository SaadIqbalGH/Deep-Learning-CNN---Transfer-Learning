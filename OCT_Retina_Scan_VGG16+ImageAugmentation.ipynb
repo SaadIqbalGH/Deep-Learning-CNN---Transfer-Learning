{
 "cells": [
  {
   "cell_type": "code",
   "execution_count": 1,
   "metadata": {},
   "outputs": [],
   "source": [
    "import os\n",
    "import numpy as np\n",
    "import pandas as pd\n",
    "import tensorflow as tf\n",
    "\n",
    "import matplotlib.pyplot as plt"
   ]
  },
  {
   "cell_type": "markdown",
   "metadata": {},
   "source": [
    "# Image File Renaming and Merging Sub-Folders Data"
   ]
  },
  {
   "cell_type": "code",
   "execution_count": 2,
   "metadata": {},
   "outputs": [
    {
     "data": {
      "text/plain": [
       "'\\npath = \\'D:/My Documents New/DL ML BC CC/Dice Analytics/Assignment/Project 1/OCT_Dataset_TL\\'\\ndata_dir_list = os.listdir(path) # converting class folder names to list\\n#print(data_dir_list)\\nno_images=0\\nimg=0\\n\\nfor dataset in data_dir_list:                          # to dataset subfolder/class name\\n    img_list = os.listdir(path + \\'/\\' + dataset)        # accessing images\\' names of subfolder as list\\n    new_dir_AMD = \\'D:/My Documents New/DL ML BC CC/Dice Analytics/Assignment/Project 1/OCT_Dataset_TL_New/AMD\\'\\n    new_dir_DME = \\'D:/My Documents New/DL ML BC CC/Dice Analytics/Assignment/Project 1/OCT_Dataset_TL_New/DME\\'\\n    new_dir_NORMAL = \\'D:/My Documents New/DL ML BC CC/Dice Analytics/Assignment/Project 1/OCT_Dataset_TL_New/NORMAL\\'\\n\\nfor img in img_list:\\n        old_name = path + \\'/\\' + dataset + \\'/\\' + img\\n        new_name = dataset + \"_\" + img \\n        if dataset[0]==  \\'A\\':\\n            dst1 = new_dir_AMD + \\'/\\' + new_name\\n \\n        if dataset[0]==  \\'D\\':\\n            dst1 = new_dir_DME + \\'/\\' + new_name\\n        \\n        if dataset[0]==  \\'N\\':\\n            dst1 = new_dir_NORMAL + \\'/\\' + new_name\\n        \\n        os.rename(old_name, dst1)        # e.g. image 01.tif from subfolder AMD1 is renamed to AMD1_01.tif  '"
      ]
     },
     "execution_count": 2,
     "metadata": {},
     "output_type": "execute_result"
    }
   ],
   "source": [
    "#### Image File Renaming Utility to Automate the image file names and copying the renamed images into 1 0f 3 \n",
    "# classes / lables respectively: This code was run once to do the job !\n",
    "\n",
    "# --------------------------------------------------------------------------------------------#\n",
    "\"\"\"\n",
    "path = 'D:/My Documents New/DL ML BC CC/Dice Analytics/Assignment/Project 1/OCT_Dataset_TL'\n",
    "data_dir_list = os.listdir(path) # converting class folder names to list\n",
    "#print(data_dir_list)\n",
    "no_images=0\n",
    "img=0\n",
    "\n",
    "for dataset in data_dir_list:                          # to dataset subfolder/class name\n",
    "    img_list = os.listdir(path + '/' + dataset)        # accessing images' names of subfolder as list\n",
    "    new_dir_AMD = 'D:/My Documents New/DL ML BC CC/Dice Analytics/Assignment/Project 1/OCT_Dataset_TL_New/AMD'\n",
    "    new_dir_DME = 'D:/My Documents New/DL ML BC CC/Dice Analytics/Assignment/Project 1/OCT_Dataset_TL_New/DME'\n",
    "    new_dir_NORMAL = 'D:/My Documents New/DL ML BC CC/Dice Analytics/Assignment/Project 1/OCT_Dataset_TL_New/NORMAL'\n",
    "\n",
    "for img in img_list:\n",
    "        old_name = path + '/' + dataset + '/' + img\n",
    "        new_name = dataset + \"_\" + img \n",
    "        if dataset[0]==  'A':\n",
    "            dst1 = new_dir_AMD + '/' + new_name\n",
    " \n",
    "        if dataset[0]==  'D':\n",
    "            dst1 = new_dir_DME + '/' + new_name\n",
    "        \n",
    "        if dataset[0]==  'N':\n",
    "            dst1 = new_dir_NORMAL + '/' + new_name\n",
    "        \n",
    "        os.rename(old_name, dst1)        # e.g. image 01.tif from subfolder AMD1 is renamed to AMD1_01.tif  \"\"\"   \n",
    "        \n"
   ]
  },
  {
   "cell_type": "markdown",
   "metadata": {},
   "source": [
    "# Spliting Data/Folders into train, validation and test "
   ]
  },
  {
   "cell_type": "code",
   "execution_count": 3,
   "metadata": {},
   "outputs": [],
   "source": [
    "#import splitfolders\n",
    "#splitfolders.ratio('D:/My Documents New/DL ML BC CC/Dice Analytics/Assignment/Project 1/OCT_Dataset_TL_New', output=\"OCT_test_val_train_Dataset_TL\", seed=1337, ratio=(0.7,0.1,0.2)) \n",
    "\n",
    "#Uncomment code to split dataset (train:val:test --> 0.7:0.1:0.2)"
   ]
  },
  {
   "cell_type": "code",
   "execution_count": 4,
   "metadata": {},
   "outputs": [],
   "source": [
    "train_data_dir = \"D:/My Documents New/DL ML BC CC/Dice Analytics/Assignment/Project 1/OCT_test_val_train_Dataset_TL/train\"\n",
    "val_data_dir = \"D:/My Documents New/DL ML BC CC/Dice Analytics/Assignment/Project 1/OCT_test_val_train_Dataset_TL/val\"\n",
    "test_data_dir = \"D:/My Documents New/DL ML BC CC/Dice Analytics/Assignment/Project 1/OCT_test_val_train_Dataset_TL/test\""
   ]
  },
  {
   "cell_type": "code",
   "execution_count": 5,
   "metadata": {
    "scrolled": false
   },
   "outputs": [
    {
     "name": "stdout",
     "output_type": "stream",
     "text": [
      "\t\tAMD:  723 \tDME:  1101 \tNORMAL:  1407 \n",
      "\n",
      "\tTotal Images:  3231\n"
     ]
    },
    {
     "data": {
      "image/png": "[encoded data removed]",
      "text/plain": [
       "<Figure size 576x576 with 1 Axes>"
      ]
     },
     "metadata": {
      "needs_background": "light"
     },
     "output_type": "display_data"
    }
   ],
   "source": [
    "data_dir = 'D:/My Documents New/DL ML BC CC/Dice Analytics/Assignment/Project 1/OCT_Dataset_TL_New'\n",
    "\n",
    "data_dir_list = os.listdir(data_dir)\n",
    "\n",
    "no_images=0\n",
    "for dataset in data_dir_list:\n",
    "    if dataset[0] == 'A':\n",
    "        amd_images = len(os.listdir(data_dir + '/' + dataset))\n",
    "\n",
    "    if dataset[0] == 'D':\n",
    "        dme_images = len(os.listdir(data_dir + '/' + dataset))\n",
    "    \n",
    "    if dataset[0] == 'N':\n",
    "        normal_images = len(os.listdir(data_dir + '/' + dataset))\n",
    "\n",
    "print('\\t\\tAMD: ' , amd_images, '\\tDME: ', dme_images, '\\tNORMAL: ', normal_images, '\\n\\n\\tTotal Images: ', amd_images + dme_images + normal_images)\n",
    "\n",
    "data= {'AMD': amd_images, 'DME': dme_images, 'NORMAL': normal_images}\n",
    "labels = list(data.keys()) \n",
    "count = list(data.values()) \n",
    "\n",
    "plt.rcParams['figure.figsize'] = (8.0, 8.0)\n",
    "plt.bar(labels, count, color=['tab:red', 'tab:green', 'tab:blue'])\n",
    "plt.axis('on')\n",
    "plt.xlabel(\"Labels\") \n",
    "plt.ylabel(\"Count\") \n",
    "plt.savefig('labels_vs_counts.png', transparent= False, bbox_inches= 'tight', dpi= 400)\n",
    "plt.show()\n"
   ]
  },
  {
   "cell_type": "markdown",
   "metadata": {},
   "source": [
    "# VGG-16 Model, with the Final Fully-Connected Layers Removed"
   ]
  },
  {
   "cell_type": "code",
   "execution_count": 6,
   "metadata": {},
   "outputs": [],
   "source": [
    "img_width, img_height = 150, 150 \n",
    "channels = 3\n",
    "batch_size = 32"
   ]
  },
  {
   "cell_type": "code",
   "execution_count": 7,
   "metadata": {},
   "outputs": [
    {
     "name": "stdout",
     "output_type": "stream",
     "text": [
      "Model: \"vgg16\"\n",
      "_________________________________________________________________\n",
      "Layer (type)                 Output Shape              Param #   \n",
      "=================================================================\n",
      "input_1 (InputLayer)         [(None, 150, 150, 3)]     0         \n",
      "_________________________________________________________________\n",
      "block1_conv1 (Conv2D)        (None, 150, 150, 64)      1792      \n",
      "_________________________________________________________________\n",
      "block1_conv2 (Conv2D)        (None, 150, 150, 64)      36928     \n",
      "_________________________________________________________________\n",
      "block1_pool (MaxPooling2D)   (None, 75, 75, 64)        0         \n",
      "_________________________________________________________________\n",
      "block2_conv1 (Conv2D)        (None, 75, 75, 128)       73856     \n",
      "_________________________________________________________________\n",
      "block2_conv2 (Conv2D)        (None, 75, 75, 128)       147584    \n",
      "_________________________________________________________________\n",
      "block2_pool (MaxPooling2D)   (None, 37, 37, 128)       0         \n",
      "_________________________________________________________________\n",
      "block3_conv1 (Conv2D)        (None, 37, 37, 256)       295168    \n",
      "_________________________________________________________________\n",
      "block3_conv2 (Conv2D)        (None, 37, 37, 256)       590080    \n",
      "_________________________________________________________________\n",
      "block3_conv3 (Conv2D)        (None, 37, 37, 256)       590080    \n",
      "_________________________________________________________________\n",
      "block3_pool (MaxPooling2D)   (None, 18, 18, 256)       0         \n",
      "_________________________________________________________________\n",
      "block4_conv1 (Conv2D)        (None, 18, 18, 512)       1180160   \n",
      "_________________________________________________________________\n",
      "block4_conv2 (Conv2D)        (None, 18, 18, 512)       2359808   \n",
      "_________________________________________________________________\n",
      "block4_conv3 (Conv2D)        (None, 18, 18, 512)       2359808   \n",
      "_________________________________________________________________\n",
      "block4_pool (MaxPooling2D)   (None, 9, 9, 512)         0         \n",
      "_________________________________________________________________\n",
      "block5_conv1 (Conv2D)        (None, 9, 9, 512)         2359808   \n",
      "_________________________________________________________________\n",
      "block5_conv2 (Conv2D)        (None, 9, 9, 512)         2359808   \n",
      "_________________________________________________________________\n",
      "block5_conv3 (Conv2D)        (None, 9, 9, 512)         2359808   \n",
      "_________________________________________________________________\n",
      "block5_pool (MaxPooling2D)   (None, 4, 4, 512)         0         \n",
      "=================================================================\n",
      "Total params: 14,714,688\n",
      "Trainable params: 14,714,688\n",
      "Non-trainable params: 0\n",
      "_________________________________________________________________\n"
     ]
    }
   ],
   "source": [
    "from tensorflow.keras.applications.vgg16 import VGG16\n",
    "\n",
    "vgg16 = VGG16(include_top= False, input_shape= (img_width, img_height, channels), weights= 'imagenet')\n",
    "vgg16.summary()"
   ]
  },
  {
   "cell_type": "markdown",
   "metadata": {},
   "source": [
    "# Data Pre-Processing and Feature Extraction with Image Augmentation"
   ]
  },
  {
   "cell_type": "code",
   "execution_count": 8,
   "metadata": {},
   "outputs": [],
   "source": [
    "from tensorflow.keras.preprocessing.image import ImageDataGenerator\n",
    "\n",
    "train_datagen = ImageDataGenerator(\n",
    "    rescale= 1./255,\n",
    "    zoom_range= (0.73, 0.9),\n",
    "    horizontal_flip= True,\n",
    "    rotation_range= 10,\n",
    "    width_shift_range= 0.10,\n",
    "    fill_mode= 'constant',\n",
    "    height_shift_range= 0.10,   \n",
    "    brightness_range= (0.55, 0.9),\n",
    ")\n",
    "\n",
    "valid_test_datagen = ImageDataGenerator(\n",
    "    rescale= 1./255, \n",
    ")"
   ]
  },
  {
   "cell_type": "code",
   "execution_count": 9,
   "metadata": {},
   "outputs": [
    {
     "name": "stdout",
     "output_type": "stream",
     "text": [
      "training data:\n",
      "Found 2260 images belonging to 3 classes.\n",
      "\n",
      "validation data:\n",
      "Found 322 images belonging to 3 classes.\n",
      "\n",
      "test data:\n",
      "Found 649 images belonging to 3 classes.\n"
     ]
    }
   ],
   "source": [
    "print('training data:')\n",
    "\n",
    "train_generator = train_datagen.flow_from_directory(  \n",
    "    train_data_dir,  \n",
    "    target_size= (img_width, img_height), \n",
    "    color_mode= 'rgb',\n",
    "    batch_size= batch_size,  \n",
    "    class_mode= 'categorical',\n",
    "    shuffle= True, \n",
    "    seed= 1337\n",
    ") \n",
    "\n",
    "print('\\nvalidation data:')\n",
    "\n",
    "valid_generator = valid_test_datagen.flow_from_directory(\n",
    "    val_data_dir,\n",
    "    target_size= (img_width, img_height),\n",
    "    color_mode= 'rgb',\n",
    "    batch_size= batch_size,  \n",
    "    class_mode= 'categorical',\n",
    "    shuffle= True, \n",
    "    seed= 1337\n",
    ")\n",
    "\n",
    "print('\\ntest data:')\n",
    "\n",
    "test_generator = valid_test_datagen.flow_from_directory(  \n",
    "    test_data_dir,  \n",
    "    target_size= (img_width, img_height), \n",
    "    color_mode= 'rgb',\n",
    "    batch_size= batch_size,        \n",
    "    class_mode= 'categorical',\n",
    "    shuffle= False, \n",
    ")"
   ]
  },
  {
   "cell_type": "code",
   "execution_count": 10,
   "metadata": {},
   "outputs": [],
   "source": [
    "'''from tensorflow.keras.utils import to_categorical\n",
    "\n",
    "num_classes = len(train_generator.class_indices)  \n",
    "train_labels = train_generator.classes \n",
    "train_labels = to_categorical(train_labels, num_classes=num_classes)\n",
    "valid_labels = valid_generator.classes \n",
    "valid_labels = to_categorical(valid_labels, num_classes=num_classes)'''\n",
    "nb_train_samples = len(train_generator.filenames)  \n",
    "nb_valid_samples = len(valid_generator.filenames)\n",
    "nb_test_samples = len(test_generator.filenames)"
   ]
  },
  {
   "cell_type": "markdown",
   "metadata": {},
   "source": [
    "#  Model Architecture"
   ]
  },
  {
   "cell_type": "code",
   "execution_count": 11,
   "metadata": {},
   "outputs": [
    {
     "name": "stdout",
     "output_type": "stream",
     "text": [
      "Model: \"sequential\"\n",
      "_________________________________________________________________\n",
      "Layer (type)                 Output Shape              Param #   \n",
      "=================================================================\n",
      "block1_conv1 (Conv2D)        (None, 150, 150, 64)      1792      \n",
      "_________________________________________________________________\n",
      "block1_conv2 (Conv2D)        (None, 150, 150, 64)      36928     \n",
      "_________________________________________________________________\n",
      "block1_pool (MaxPooling2D)   (None, 75, 75, 64)        0         \n",
      "_________________________________________________________________\n",
      "block2_conv1 (Conv2D)        (None, 75, 75, 128)       73856     \n",
      "_________________________________________________________________\n",
      "block2_conv2 (Conv2D)        (None, 75, 75, 128)       147584    \n",
      "_________________________________________________________________\n",
      "block2_pool (MaxPooling2D)   (None, 37, 37, 128)       0         \n",
      "_________________________________________________________________\n",
      "block3_conv1 (Conv2D)        (None, 37, 37, 256)       295168    \n",
      "_________________________________________________________________\n",
      "block3_conv2 (Conv2D)        (None, 37, 37, 256)       590080    \n",
      "_________________________________________________________________\n",
      "block3_conv3 (Conv2D)        (None, 37, 37, 256)       590080    \n",
      "_________________________________________________________________\n",
      "block3_pool (MaxPooling2D)   (None, 18, 18, 256)       0         \n",
      "_________________________________________________________________\n",
      "block4_conv1 (Conv2D)        (None, 18, 18, 512)       1180160   \n",
      "_________________________________________________________________\n",
      "block4_conv2 (Conv2D)        (None, 18, 18, 512)       2359808   \n",
      "_________________________________________________________________\n",
      "block4_conv3 (Conv2D)        (None, 18, 18, 512)       2359808   \n",
      "_________________________________________________________________\n",
      "block4_pool (MaxPooling2D)   (None, 9, 9, 512)         0         \n",
      "_________________________________________________________________\n",
      "block5_conv1 (Conv2D)        (None, 9, 9, 512)         2359808   \n",
      "_________________________________________________________________\n",
      "block5_conv2 (Conv2D)        (None, 9, 9, 512)         2359808   \n",
      "_________________________________________________________________\n",
      "block5_conv3 (Conv2D)        (None, 9, 9, 512)         2359808   \n",
      "_________________________________________________________________\n",
      "block5_pool (MaxPooling2D)   (None, 4, 4, 512)         0         \n",
      "_________________________________________________________________\n",
      "flatten (Flatten)            (None, 8192)              0         \n",
      "_________________________________________________________________\n",
      "dropout (Dropout)            (None, 8192)              0         \n",
      "_________________________________________________________________\n",
      "dense (Dense)                (None, 3)                 24579     \n",
      "=================================================================\n",
      "Total params: 14,739,267\n",
      "Trainable params: 24,579\n",
      "Non-trainable params: 14,714,688\n",
      "_________________________________________________________________\n"
     ]
    }
   ],
   "source": [
    "from tensorflow.keras import models, layers\n",
    "from tensorflow.keras import optimizers\n",
    "from tensorflow.keras.layers import Dense, Flatten, Dropout\n",
    "from tensorflow.keras.models import Sequential\n",
    "\n",
    "\n",
    "model = Sequential()\n",
    "\n",
    "for layer in vgg16.layers:\n",
    "    model.add(layer)\n",
    "\n",
    "for layer in model.layers:\n",
    "    layer.trainable= False\n",
    "\n",
    "model.add(Flatten(input_shape= (4, 4, 512)))\n",
    "model.add(Dropout(0.2))\n",
    "model.add(Dense(3,activation='softmax'))\n",
    "\n",
    "model.summary()"
   ]
  },
  {
   "cell_type": "markdown",
   "metadata": {},
   "source": [
    "# Compile the Model"
   ]
  },
  {
   "cell_type": "code",
   "execution_count": 12,
   "metadata": {},
   "outputs": [],
   "source": [
    "from tensorflow.keras.optimizers import Adam\n",
    "\n",
    "optimizers = Adam(learning_rate= 0.0001)\n",
    "model.compile(optimizer= optimizers, loss= 'categorical_crossentropy', \n",
    "              metrics= ['acc'])"
   ]
  },
  {
   "cell_type": "markdown",
   "metadata": {},
   "source": [
    "# Helper Functions"
   ]
  },
  {
   "cell_type": "code",
   "execution_count": 13,
   "metadata": {},
   "outputs": [],
   "source": [
    "from tensorflow.keras.callbacks import ModelCheckpoint, EarlyStopping, CSVLogger, ReduceLROnPlateau\n",
    "\n",
    "checkpoint = ModelCheckpoint(\n",
    "    'baseline_model.h5',\n",
    "    monitor='val_loss',\n",
    "    verbose=1,\n",
    "    save_best_only=True,\n",
    "    mode='auto',\n",
    "    save_weights_only=False,\n",
    ")\n",
    "\n",
    "earlystop = EarlyStopping(\n",
    "    monitor='val_loss',\n",
    "    min_delta=0.001,\n",
    "    patience=3,\n",
    "    verbose=1,\n",
    "    mode='auto'\n",
    ")\n",
    "\n",
    "csvlogger = CSVLogger(\n",
    "    filename= \"baseline_training_csv.log\",\n",
    "    separator = \",\",\n",
    "    append = False\n",
    ")\n",
    "\n",
    "reduceLR = ReduceLROnPlateau(\n",
    "    monitor='val_loss',\n",
    "    factor=0.1,\n",
    "    patience=3,\n",
    "    verbose=1, \n",
    "    mode='auto'\n",
    ")\n",
    "\n",
    "callbacks = [checkpoint, earlystop, csvlogger,reduceLR]"
   ]
  },
  {
   "cell_type": "markdown",
   "metadata": {},
   "source": [
    "# Train the Model"
   ]
  },
  {
   "cell_type": "code",
   "execution_count": 14,
   "metadata": {},
   "outputs": [
    {
     "name": "stdout",
     "output_type": "stream",
     "text": [
      "Epoch 1/30\n",
      "70/70 - 317s - loss: 0.9721 - acc: 0.5184 - val_loss: 0.8025 - val_acc: 0.6531\n",
      "\n",
      "Epoch 00001: val_loss improved from inf to 0.80251, saving model to baseline_model.h5\n",
      "Epoch 2/30\n",
      "70/70 - 379s - loss: 0.7871 - acc: 0.6427 - val_loss: 0.6876 - val_acc: 0.7563\n",
      "\n",
      "Epoch 00002: val_loss improved from 0.80251 to 0.68756, saving model to baseline_model.h5\n",
      "Epoch 3/30\n",
      "70/70 - 322s - loss: 0.6762 - acc: 0.7334 - val_loss: 0.6141 - val_acc: 0.7688\n",
      "\n",
      "Epoch 00003: val_loss improved from 0.68756 to 0.61415, saving model to baseline_model.h5\n",
      "Epoch 4/30\n",
      "70/70 - 311s - loss: 0.6098 - acc: 0.7590 - val_loss: 0.5657 - val_acc: 0.8031\n",
      "\n",
      "Epoch 00004: val_loss improved from 0.61415 to 0.56569, saving model to baseline_model.h5\n",
      "Epoch 5/30\n",
      "70/70 - 317s - loss: 0.5532 - acc: 0.7908 - val_loss: 0.5289 - val_acc: 0.8125\n",
      "\n",
      "Epoch 00005: val_loss improved from 0.56569 to 0.52895, saving model to baseline_model.h5\n",
      "Epoch 6/30\n",
      "70/70 - 314s - loss: 0.5158 - acc: 0.8039 - val_loss: 0.4980 - val_acc: 0.8313\n",
      "\n",
      "Epoch 00006: val_loss improved from 0.52895 to 0.49799, saving model to baseline_model.h5\n",
      "Epoch 7/30\n",
      "70/70 - 315s - loss: 0.4694 - acc: 0.8371 - val_loss: 0.4661 - val_acc: 0.8438\n",
      "\n",
      "Epoch 00007: val_loss improved from 0.49799 to 0.46608, saving model to baseline_model.h5\n",
      "Epoch 8/30\n",
      "70/70 - 315s - loss: 0.4584 - acc: 0.8398 - val_loss: 0.4510 - val_acc: 0.8562\n",
      "\n",
      "Epoch 00008: val_loss improved from 0.46608 to 0.45101, saving model to baseline_model.h5\n",
      "Epoch 9/30\n",
      "70/70 - 316s - loss: 0.4221 - acc: 0.8582 - val_loss: 0.4320 - val_acc: 0.8687\n",
      "\n",
      "Epoch 00009: val_loss improved from 0.45101 to 0.43199, saving model to baseline_model.h5\n",
      "Epoch 10/30\n",
      "70/70 - 314s - loss: 0.4112 - acc: 0.8523 - val_loss: 0.4135 - val_acc: 0.8719\n",
      "\n",
      "Epoch 00010: val_loss improved from 0.43199 to 0.41352, saving model to baseline_model.h5\n",
      "Epoch 11/30\n",
      "70/70 - 315s - loss: 0.3853 - acc: 0.8725 - val_loss: 0.4074 - val_acc: 0.8719\n",
      "\n",
      "Epoch 00011: val_loss improved from 0.41352 to 0.40738, saving model to baseline_model.h5\n",
      "Epoch 12/30\n",
      "70/70 - 315s - loss: 0.3732 - acc: 0.8752 - val_loss: 0.3835 - val_acc: 0.8844\n",
      "\n",
      "Epoch 00012: val_loss improved from 0.40738 to 0.38348, saving model to baseline_model.h5\n",
      "Epoch 13/30\n",
      "70/70 - 315s - loss: 0.3721 - acc: 0.8734 - val_loss: 0.3887 - val_acc: 0.8875\n",
      "\n",
      "Epoch 00013: val_loss did not improve from 0.38348\n",
      "Epoch 14/30\n",
      "70/70 - 316s - loss: 0.3570 - acc: 0.8864 - val_loss: 0.3570 - val_acc: 0.8969\n",
      "\n",
      "Epoch 00014: val_loss improved from 0.38348 to 0.35699, saving model to baseline_model.h5\n",
      "Epoch 15/30\n",
      "70/70 - 321s - loss: 0.3374 - acc: 0.8959 - val_loss: 0.3494 - val_acc: 0.9062\n",
      "\n",
      "Epoch 00015: val_loss improved from 0.35699 to 0.34936, saving model to baseline_model.h5\n",
      "Epoch 16/30\n",
      "70/70 - 317s - loss: 0.3381 - acc: 0.8896 - val_loss: 0.3392 - val_acc: 0.9094\n",
      "\n",
      "Epoch 00016: val_loss improved from 0.34936 to 0.33922, saving model to baseline_model.h5\n",
      "Epoch 17/30\n",
      "70/70 - 316s - loss: 0.3332 - acc: 0.8968 - val_loss: 0.3359 - val_acc: 0.9187\n",
      "\n",
      "Epoch 00017: val_loss improved from 0.33922 to 0.33593, saving model to baseline_model.h5\n",
      "Epoch 18/30\n",
      "70/70 - 315s - loss: 0.3163 - acc: 0.9026 - val_loss: 0.3287 - val_acc: 0.9062\n",
      "\n",
      "Epoch 00018: val_loss improved from 0.33593 to 0.32872, saving model to baseline_model.h5\n",
      "Epoch 19/30\n",
      "70/70 - 315s - loss: 0.3053 - acc: 0.8986 - val_loss: 0.3166 - val_acc: 0.9187\n",
      "\n",
      "Epoch 00019: val_loss improved from 0.32872 to 0.31661, saving model to baseline_model.h5\n",
      "Epoch 20/30\n",
      "70/70 - 319s - loss: 0.3045 - acc: 0.9004 - val_loss: 0.3138 - val_acc: 0.9156\n",
      "\n",
      "Epoch 00020: val_loss improved from 0.31661 to 0.31381, saving model to baseline_model.h5\n",
      "Epoch 21/30\n",
      "70/70 - 326s - loss: 0.2951 - acc: 0.9111 - val_loss: 0.3085 - val_acc: 0.9125\n",
      "\n",
      "Epoch 00021: val_loss improved from 0.31381 to 0.30847, saving model to baseline_model.h5\n",
      "Epoch 22/30\n",
      "70/70 - 319s - loss: 0.2863 - acc: 0.9071 - val_loss: 0.2969 - val_acc: 0.9219\n",
      "\n",
      "Epoch 00022: val_loss improved from 0.30847 to 0.29688, saving model to baseline_model.h5\n",
      "Epoch 23/30\n",
      "70/70 - 329s - loss: 0.2797 - acc: 0.9134 - val_loss: 0.2938 - val_acc: 0.9312\n",
      "\n",
      "Epoch 00023: val_loss improved from 0.29688 to 0.29382, saving model to baseline_model.h5\n",
      "Epoch 24/30\n",
      "70/70 - 346s - loss: 0.2822 - acc: 0.9161 - val_loss: 0.2901 - val_acc: 0.9281\n",
      "\n",
      "Epoch 00024: val_loss improved from 0.29382 to 0.29014, saving model to baseline_model.h5\n",
      "Epoch 25/30\n",
      "70/70 - 365s - loss: 0.2670 - acc: 0.9161 - val_loss: 0.2815 - val_acc: 0.9281\n",
      "\n",
      "Epoch 00025: val_loss improved from 0.29014 to 0.28149, saving model to baseline_model.h5\n",
      "Epoch 26/30\n",
      "70/70 - 367s - loss: 0.2554 - acc: 0.9206 - val_loss: 0.2797 - val_acc: 0.9312\n",
      "\n",
      "Epoch 00026: val_loss improved from 0.28149 to 0.27967, saving model to baseline_model.h5\n",
      "Epoch 27/30\n",
      "70/70 - 388s - loss: 0.2584 - acc: 0.9161 - val_loss: 0.2756 - val_acc: 0.9281\n",
      "\n",
      "Epoch 00027: val_loss improved from 0.27967 to 0.27563, saving model to baseline_model.h5\n",
      "Epoch 28/30\n",
      "70/70 - 332s - loss: 0.2479 - acc: 0.9179 - val_loss: 0.2783 - val_acc: 0.9281\n",
      "\n",
      "Epoch 00028: val_loss did not improve from 0.27563\n",
      "Epoch 29/30\n",
      "70/70 - 339s - loss: 0.2507 - acc: 0.9210 - val_loss: 0.2576 - val_acc: 0.9375\n",
      "\n",
      "Epoch 00029: val_loss improved from 0.27563 to 0.25764, saving model to baseline_model.h5\n",
      "Epoch 30/30\n",
      "70/70 - 329s - loss: 0.2470 - acc: 0.9232 - val_loss: 0.2563 - val_acc: 0.9312\n",
      "\n",
      "Epoch 00030: val_loss improved from 0.25764 to 0.25629, saving model to baseline_model.h5\n"
     ]
    }
   ],
   "source": [
    "history = model.fit(\n",
    "    train_generator, \n",
    "    epochs = 30,\n",
    "    steps_per_epoch = nb_train_samples//batch_size,\n",
    "    validation_data = valid_generator, \n",
    "    validation_steps = nb_valid_samples//batch_size,\n",
    "    verbose = 2,\n",
    "    callbacks = callbacks,\n",
    "    shuffle = True\n",
    ")"
   ]
  },
  {
   "cell_type": "code",
   "execution_count": 15,
   "metadata": {},
   "outputs": [
    {
     "data": {
      "image/png": "[encoded data removed]",
      "text/plain": [
       "<Figure size 576x576 with 1 Axes>"
      ]
     },
     "metadata": {
      "needs_background": "light"
     },
     "output_type": "display_data"
    },
    {
     "data": {
      "image/png": "[encoded data removed]",
      "text/plain": [
       "<Figure size 432x288 with 1 Axes>"
      ]
     },
     "metadata": {
      "needs_background": "light"
     },
     "output_type": "display_data"
    }
   ],
   "source": [
    "plt.subplot()\n",
    "plt.rcParams['figure.figsize'] = (6.0, 4.0)\n",
    "plt.title('Baseline Model Accuracy')\n",
    "plt.plot(history.history['acc'])\n",
    "plt.plot(history.history['val_acc'])\n",
    "plt.ylabel('Accuracy')\n",
    "plt.xlabel('Epochs')\n",
    "plt.legend(['Training Accuracy','Validation Accuracy'])\n",
    "plt.savefig('baseline_acc_epoch.png', transparent= False, bbox_inches= 'tight', dpi= 400)\n",
    "plt.show()\n",
    "\n",
    "plt.subplot()\n",
    "plt.title('Baseline Model Loss')\n",
    "plt.plot(history.history['loss'])\n",
    "plt.plot(history.history['val_loss'])\n",
    "plt.ylabel('Loss')\n",
    "plt.xlabel('Epochs')\n",
    "plt.legend(['Training Loss','Validation Loss'])\n",
    "plt.savefig('baseline_loss_epoch.png', transparent= False, bbox_inches= 'tight', dpi= 400)\n",
    "plt.show()"
   ]
  },
  {
   "cell_type": "code",
   "execution_count": 16,
   "metadata": {},
   "outputs": [
    {
     "name": "stdout",
     "output_type": "stream",
     "text": [
      "21/21 [==============================] - 74s 4s/step - loss: 0.2366 - acc: 0.9353\n",
      "Test Loss:  0.23659078776836395\n",
      "Test Accuracy:  0.9352850317955017\n"
     ]
    }
   ],
   "source": [
    "(eval_loss, eval_accuracy) = model.evaluate(test_generator, batch_size= batch_size, verbose= 1)\n",
    "print('Test Loss: ', eval_loss)\n",
    "print('Test Accuracy: ', eval_accuracy)"
   ]
  },
  {
   "cell_type": "code",
   "execution_count": 17,
   "metadata": {},
   "outputs": [
    {
     "data": {
      "image/png": "[encoded data removed]",
      "text/plain": [
       "<Figure size 720x576 with 2 Axes>"
      ]
     },
     "metadata": {
      "needs_background": "light"
     },
     "output_type": "display_data"
    },
    {
     "name": "stdout",
     "output_type": "stream",
     "text": [
      "Classification Report\n",
      "\n",
      "              precision    recall  f1-score   support\n",
      "\n",
      "         AMD       0.88      0.98      0.93       145\n",
      "         DME       0.96      0.86      0.91       221\n",
      "      NORMAL       0.95      0.98      0.96       283\n",
      "\n",
      "    accuracy                           0.94       649\n",
      "   macro avg       0.93      0.94      0.93       649\n",
      "weighted avg       0.94      0.94      0.93       649\n",
      "\n"
     ]
    }
   ],
   "source": [
    "from sklearn.metrics import classification_report, confusion_matrix\n",
    "import seaborn as sn\n",
    "\n",
    "Y_pred = model.predict(test_generator, nb_test_samples // batch_size+1)\n",
    "y_pred = np.argmax(Y_pred, axis=1)\n",
    "cm = confusion_matrix(test_generator.classes, y_pred)\n",
    "df_cm = pd.DataFrame(cm, list(test_generator.class_indices.keys()), list(test_generator.class_indices.keys()))\n",
    "fig, ax = plt.subplots(figsize=(10,8))\n",
    "sn.set(font_scale=1.4) # for label size\n",
    "sn.heatmap(df_cm, annot=True, annot_kws={\"size\": 16}, cmap=plt.cm.Blues)\n",
    "plt.title('Confusion Matrix\\n')\n",
    "plt.savefig('confusion_matrix.png', transparent= False, bbox_inches= 'tight', dpi= 400)\n",
    "plt.show()\n",
    "\n",
    "print('Classification Report\\n')\n",
    "target_names = list(test_generator.class_indices.keys())\n",
    "print(classification_report(test_generator.classes, y_pred, target_names=target_names))"
   ]
  },
  {
   "cell_type": "code",
   "execution_count": null,
   "metadata": {},
   "outputs": [],
   "source": []
  }
 ],
 "metadata": {
  "kernelspec": {
   "display_name": "Python 3",
   "language": "python",
   "name": "python3"
  },
  "language_info": {
   "codemirror_mode": {
    "name": "ipython",
    "version": 3
   },
   "file_extension": ".py",
   "mimetype": "text/x-python",
   "name": "python",
   "nbconvert_exporter": "python",
   "pygments_lexer": "ipython3",
   "version": "3.8.8"
  }
 },
 "nbformat": 4,
 "nbformat_minor": 4
}
