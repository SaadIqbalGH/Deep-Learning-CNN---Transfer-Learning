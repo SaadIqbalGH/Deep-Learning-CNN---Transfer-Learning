{
 "cells": [
  {
   "cell_type": "code",
   "execution_count": 22,
   "metadata": {},
   "outputs": [],
   "source": [
    "import os\n",
    "import numpy as np\n",
    "import pandas as pd\n",
    "import tensorflow\n",
    "import matplotlib.pyplot as plt"
   ]
  },
  {
   "cell_type": "markdown",
   "metadata": {},
   "source": [
    "# Image File Renaming and Merging Sub-Folders Data"
   ]
  },
  {
   "cell_type": "code",
   "execution_count": 23,
   "metadata": {},
   "outputs": [
    {
     "data": {
      "text/plain": [
       "'\\npath = \\'D:/My Documents New/DL ML BC CC/Dice Analytics/Assignment/Project 1/OCT_Dataset_TL\\'\\ndata_dir_list = os.listdir(path) # converting class folder names to list\\n#print(data_dir_list)\\nno_images=0\\nimg=0\\n\\nfor dataset in data_dir_list:                          # to dataset subfolder/class name\\n    img_list = os.listdir(path + \\'/\\' + dataset)        # accessing images\\' names of subfolder as list\\n    new_dir_AMD = \\'D:/My Documents New/DL ML BC CC/Dice Analytics/Assignment/Project 1/OCT_Dataset_TL_New/AMD\\'\\n    new_dir_DME = \\'D:/My Documents New/DL ML BC CC/Dice Analytics/Assignment/Project 1/OCT_Dataset_TL_New/DME\\'\\n    new_dir_NORMAL = \\'D:/My Documents New/DL ML BC CC/Dice Analytics/Assignment/Project 1/OCT_Dataset_TL_New/NORMAL\\'\\n\\nfor img in img_list:\\n        old_name = path + \\'/\\' + dataset + \\'/\\' + img\\n        new_name = dataset + \"_\" + img \\n        if dataset[0]==  \\'A\\':\\n            dst1 = new_dir_AMD + \\'/\\' + new_name\\n \\n        if dataset[0]==  \\'D\\':\\n            dst1 = new_dir_DME + \\'/\\' + new_name\\n        \\n        if dataset[0]==  \\'N\\':\\n            dst1 = new_dir_NORMAL + \\'/\\' + new_name\\n        \\n        os.rename(old_name, dst1)        # e.g. image 01.tif from subfolder AMD1 is renamed to AMD1_01.tif  '"
      ]
     },
     "execution_count": 23,
     "metadata": {},
     "output_type": "execute_result"
    }
   ],
   "source": [
    "#### Image File Renaming Utility to Automate the image file names and copying the renamed images into 1 0f 3 \n",
    "# classes / lables respectively: This code was run once to do the job !\n",
    "\n",
    "# --------------------------------------------------------------------------------------------#\n",
    "\"\"\"\n",
    "path = 'D:/My Documents New/DL ML BC CC/Dice Analytics/Assignment/Project 1/OCT_Dataset_TL'\n",
    "data_dir_list = os.listdir(path) # converting class folder names to list\n",
    "#print(data_dir_list)\n",
    "no_images=0\n",
    "img=0\n",
    "\n",
    "for dataset in data_dir_list:                          # to dataset subfolder/class name\n",
    "    img_list = os.listdir(path + '/' + dataset)        # accessing images' names of subfolder as list\n",
    "    new_dir_AMD = 'D:/My Documents New/DL ML BC CC/Dice Analytics/Assignment/Project 1/OCT_Dataset_TL_New/AMD'\n",
    "    new_dir_DME = 'D:/My Documents New/DL ML BC CC/Dice Analytics/Assignment/Project 1/OCT_Dataset_TL_New/DME'\n",
    "    new_dir_NORMAL = 'D:/My Documents New/DL ML BC CC/Dice Analytics/Assignment/Project 1/OCT_Dataset_TL_New/NORMAL'\n",
    "\n",
    "for img in img_list:\n",
    "        old_name = path + '/' + dataset + '/' + img\n",
    "        new_name = dataset + \"_\" + img \n",
    "        if dataset[0]==  'A':\n",
    "            dst1 = new_dir_AMD + '/' + new_name\n",
    " \n",
    "        if dataset[0]==  'D':\n",
    "            dst1 = new_dir_DME + '/' + new_name\n",
    "        \n",
    "        if dataset[0]==  'N':\n",
    "            dst1 = new_dir_NORMAL + '/' + new_name\n",
    "        \n",
    "        os.rename(old_name, dst1)        # e.g. image 01.tif from subfolder AMD1 is renamed to AMD1_01.tif  \"\"\"   \n",
    "        \n"
   ]
  },
  {
   "cell_type": "markdown",
   "metadata": {},
   "source": [
    "# Spliting Data/Folders into train, validation and test "
   ]
  },
  {
   "cell_type": "code",
   "execution_count": 24,
   "metadata": {},
   "outputs": [],
   "source": [
    "#import splitfolders\n",
    "#splitfolders.ratio('D:/My Documents New/DL ML BC CC/Dice Analytics/Assignment/Project 1/OCT_Dataset_TL_New', output=\"OCT_test_val_train_Dataset_TL\", seed=1337, ratio=(0.7,0.1,0.2)) \n",
    "\n",
    "#Uncomment code to split dataset (train:val:test --> 0.7:0.1:0.2)"
   ]
  },
  {
   "cell_type": "code",
   "execution_count": 25,
   "metadata": {},
   "outputs": [],
   "source": [
    "train_data_dir = \"D:/My Documents New/DL ML BC CC/Dice Analytics/Assignment/Project 1/OCT_test_val_train_Dataset_TL/train\"\n",
    "val_data_dir = \"D:/My Documents New/DL ML BC CC/Dice Analytics/Assignment/Project 1/OCT_test_val_train_Dataset_TL/val\"\n",
    "test_data_dir = \"D:/My Documents New/DL ML BC CC/Dice Analytics/Assignment/Project 1/OCT_test_val_train_Dataset_TL/test\""
   ]
  },
  {
   "cell_type": "code",
   "execution_count": 26,
   "metadata": {
    "scrolled": true
   },
   "outputs": [
    {
     "name": "stdout",
     "output_type": "stream",
     "text": [
      "\t\tAMD:  723 \tDME:  1101 \tNORMAL:  1407 \n",
      "\n",
      "\tTotal Images:  3231\n"
     ]
    },
    {
     "data": {
      "image/png": "[encoded data removed]",
      "text/plain": [
       "<Figure size 576x576 with 1 Axes>"
      ]
     },
     "metadata": {
      "needs_background": "light"
     },
     "output_type": "display_data"
    }
   ],
   "source": [
    "data_dir = 'D:/My Documents New/DL ML BC CC/Dice Analytics/Assignment/Project 1/OCT_Dataset_TL_New'\n",
    "\n",
    "data_dir_list = os.listdir(data_dir)\n",
    "\n",
    "no_images=0\n",
    "for dataset in data_dir_list:\n",
    "    if dataset[0] == 'A':\n",
    "        amd_images = len(os.listdir(data_dir + '/' + dataset))\n",
    "\n",
    "    if dataset[0] == 'D':\n",
    "        dme_images = len(os.listdir(data_dir + '/' + dataset))\n",
    "    \n",
    "    if dataset[0] == 'N':\n",
    "        normal_images = len(os.listdir(data_dir + '/' + dataset))\n",
    "\n",
    "print('\\t\\tAMD: ' , amd_images, '\\tDME: ', dme_images, '\\tNORMAL: ', normal_images, '\\n\\n\\tTotal Images: ', amd_images + dme_images + normal_images)\n",
    "\n",
    "data= {'AMD': amd_images, 'DME': dme_images, 'NORMAL': normal_images}\n",
    "labels = list(data.keys()) \n",
    "count = list(data.values()) \n",
    "\n",
    "plt.rcParams['figure.figsize'] = (8.0, 8.0)\n",
    "plt.bar(labels, count, color=['tab:red', 'tab:green', 'tab:blue'])\n",
    "plt.axis('on')\n",
    "plt.xlabel(\"Labels\") \n",
    "plt.ylabel(\"Count\") \n",
    "plt.savefig('labels_vs_counts.png', transparent= False, bbox_inches= 'tight', dpi= 400)\n",
    "plt.show()\n"
   ]
  },
  {
   "cell_type": "markdown",
   "metadata": {},
   "source": [
    "# VGG-16 Model, with the Final Fully-Connected Layers Removed"
   ]
  },
  {
   "cell_type": "code",
   "execution_count": 27,
   "metadata": {},
   "outputs": [
    {
     "name": "stdout",
     "output_type": "stream",
     "text": [
      "Model: \"vgg16\"\n",
      "_________________________________________________________________\n",
      "Layer (type)                 Output Shape              Param #   \n",
      "=================================================================\n",
      "input_2 (InputLayer)         [(None, 150, 150, 3)]     0         \n",
      "_________________________________________________________________\n",
      "block1_conv1 (Conv2D)        (None, 150, 150, 64)      1792      \n",
      "_________________________________________________________________\n",
      "block1_conv2 (Conv2D)        (None, 150, 150, 64)      36928     \n",
      "_________________________________________________________________\n",
      "block1_pool (MaxPooling2D)   (None, 75, 75, 64)        0         \n",
      "_________________________________________________________________\n",
      "block2_conv1 (Conv2D)        (None, 75, 75, 128)       73856     \n",
      "_________________________________________________________________\n",
      "block2_conv2 (Conv2D)        (None, 75, 75, 128)       147584    \n",
      "_________________________________________________________________\n",
      "block2_pool (MaxPooling2D)   (None, 37, 37, 128)       0         \n",
      "_________________________________________________________________\n",
      "block3_conv1 (Conv2D)        (None, 37, 37, 256)       295168    \n",
      "_________________________________________________________________\n",
      "block3_conv2 (Conv2D)        (None, 37, 37, 256)       590080    \n",
      "_________________________________________________________________\n",
      "block3_conv3 (Conv2D)        (None, 37, 37, 256)       590080    \n",
      "_________________________________________________________________\n",
      "block3_pool (MaxPooling2D)   (None, 18, 18, 256)       0         \n",
      "_________________________________________________________________\n",
      "block4_conv1 (Conv2D)        (None, 18, 18, 512)       1180160   \n",
      "_________________________________________________________________\n",
      "block4_conv2 (Conv2D)        (None, 18, 18, 512)       2359808   \n",
      "_________________________________________________________________\n",
      "block4_conv3 (Conv2D)        (None, 18, 18, 512)       2359808   \n",
      "_________________________________________________________________\n",
      "block4_pool (MaxPooling2D)   (None, 9, 9, 512)         0         \n",
      "_________________________________________________________________\n",
      "block5_conv1 (Conv2D)        (None, 9, 9, 512)         2359808   \n",
      "_________________________________________________________________\n",
      "block5_conv2 (Conv2D)        (None, 9, 9, 512)         2359808   \n",
      "_________________________________________________________________\n",
      "block5_conv3 (Conv2D)        (None, 9, 9, 512)         2359808   \n",
      "_________________________________________________________________\n",
      "block5_pool (MaxPooling2D)   (None, 4, 4, 512)         0         \n",
      "=================================================================\n",
      "Total params: 14,714,688\n",
      "Trainable params: 14,714,688\n",
      "Non-trainable params: 0\n",
      "_________________________________________________________________\n"
     ]
    }
   ],
   "source": [
    "from tensorflow.keras.applications.vgg16 import VGG16\n",
    "conv_base = VGG16(weights='imagenet',\n",
    "include_top=False,\n",
    "input_shape=(150, 150, 3))\n",
    "conv_base.summary()\n"
   ]
  },
  {
   "cell_type": "markdown",
   "metadata": {},
   "source": [
    "# Data Pre-Processing and Fast Features Extraction \n"
   ]
  },
  {
   "cell_type": "code",
   "execution_count": 28,
   "metadata": {},
   "outputs": [],
   "source": [
    "img_width, img_height = 150, 150 \n",
    "channels = 3\n",
    "batch_size = 32"
   ]
  },
  {
   "cell_type": "code",
   "execution_count": 29,
   "metadata": {},
   "outputs": [],
   "source": [
    "import os\n",
    "import numpy as np\n",
    "from tensorflow.keras.preprocessing.image import ImageDataGenerator\n",
    "\n",
    "datagen = ImageDataGenerator(rescale=1./255)\n",
    "batch_size = 20\n",
    "\n",
    "def extract_features(directory, sample_count):\n",
    "    features = np.zeros(shape=(sample_count, 4, 4, 512))\n",
    "    labels = np.zeros(shape=(sample_count,3))\n",
    "    generator = datagen.flow_from_directory(\n",
    "        directory,\n",
    "        target_size=(150, 150),\n",
    "        color_mode= 'rgb',\n",
    "        batch_size=batch_size,\n",
    "        class_mode=\"categorical\")\n",
    "    i=0\n",
    "    for inputs_batch, labels_batch in generator:\n",
    "        features_batch = conv_base.predict(inputs_batch)\n",
    "        features[i * batch_size : (i + 1) * batch_size] = features_batch\n",
    "        labels[i * batch_size : (i + 1) * batch_size] = labels_batch\n",
    "        i += 1\n",
    "        if i * batch_size >= sample_count:\n",
    "            break\n",
    "    return features, labels"
   ]
  },
  {
   "cell_type": "code",
   "execution_count": 30,
   "metadata": {},
   "outputs": [
    {
     "name": "stdout",
     "output_type": "stream",
     "text": [
      "Found 2260 images belonging to 3 classes.\n"
     ]
    }
   ],
   "source": [
    "X_train, y_train = extract_features(train_data_dir,2260)"
   ]
  },
  {
   "cell_type": "code",
   "execution_count": 31,
   "metadata": {},
   "outputs": [
    {
     "name": "stdout",
     "output_type": "stream",
     "text": [
      "Found 322 images belonging to 3 classes.\n"
     ]
    }
   ],
   "source": [
    "X_val, y_val = extract_features(val_data_dir, 322)"
   ]
  },
  {
   "cell_type": "code",
   "execution_count": 32,
   "metadata": {},
   "outputs": [
    {
     "name": "stdout",
     "output_type": "stream",
     "text": [
      "Found 649 images belonging to 3 classes.\n"
     ]
    }
   ],
   "source": [
    "X_test, y_test = extract_features(test_data_dir,649)"
   ]
  },
  {
   "cell_type": "code",
   "execution_count": 42,
   "metadata": {},
   "outputs": [
    {
     "data": {
      "text/plain": [
       "numpy.ndarray"
      ]
     },
     "execution_count": 42,
     "metadata": {},
     "output_type": "execute_result"
    }
   ],
   "source": [
    "type(X_train)"
   ]
  },
  {
   "cell_type": "code",
   "execution_count": 33,
   "metadata": {},
   "outputs": [
    {
     "data": {
      "text/plain": [
       "(322, 8192)"
      ]
     },
     "execution_count": 33,
     "metadata": {},
     "output_type": "execute_result"
    }
   ],
   "source": [
    "X_train = np.reshape(X_train, (2260, 4*4* 512))\n",
    "X_val = np.reshape(X_val, (322, 4*4* 512))\n",
    "X_test = np.reshape(X_test, (649, 4*4* 512))\n",
    "X_val.shape"
   ]
  },
  {
   "cell_type": "markdown",
   "metadata": {},
   "source": [
    "#  Model Architecture"
   ]
  },
  {
   "cell_type": "code",
   "execution_count": 34,
   "metadata": {},
   "outputs": [
    {
     "name": "stdout",
     "output_type": "stream",
     "text": [
      "Model: \"sequential\"\n",
      "_________________________________________________________________\n",
      "Layer (type)                 Output Shape              Param #   \n",
      "=================================================================\n",
      "dense (Dense)                (None, 256)               2097408   \n",
      "_________________________________________________________________\n",
      "dropout (Dropout)            (None, 256)               0         \n",
      "_________________________________________________________________\n",
      "dense_1 (Dense)              (None, 3)                 771       \n",
      "=================================================================\n",
      "Total params: 2,098,179\n",
      "Trainable params: 2,098,179\n",
      "Non-trainable params: 0\n",
      "_________________________________________________________________\n"
     ]
    }
   ],
   "source": [
    "from tensorflow.keras import models, layers\n",
    "from tensorflow.keras import optimizers\n",
    "from tensorflow.keras.layers import Dense, Flatten\n",
    "from tensorflow.keras.models import Sequential\n",
    "from tensorflow.keras.layers import GlobalAveragePooling2D\n",
    "\n",
    "model = models.Sequential()\n",
    "model.add(layers.Dense(256, activation='relu', input_dim=4 * 4 * 512))\n",
    "model.add(layers.Dropout(0.5))\n",
    "model.add(layers.Dense(3, activation='softmax'))\n",
    "model.summary()"
   ]
  },
  {
   "cell_type": "markdown",
   "metadata": {},
   "source": [
    "# Compile the Model"
   ]
  },
  {
   "cell_type": "code",
   "execution_count": 35,
   "metadata": {},
   "outputs": [],
   "source": [
    "model.compile(loss='categorical_crossentropy', optimizer='rmsprop', \n",
    "                  metrics=['accuracy'])"
   ]
  },
  {
   "cell_type": "markdown",
   "metadata": {},
   "source": [
    "# Train the Model"
   ]
  },
  {
   "cell_type": "code",
   "execution_count": 36,
   "metadata": {},
   "outputs": [
    {
     "name": "stdout",
     "output_type": "stream",
     "text": [
      "Epoch 1/20\n",
      "71/71 [==============================] - 3s 30ms/step - loss: 0.9461 - accuracy: 0.7044 - val_loss: 0.4457 - val_accuracy: 0.7981\n",
      "\n",
      "Epoch 00001: val_loss improved from inf to 0.44566, saving model to OCTvgg16.weights.best.hdf5\n",
      "Epoch 2/20\n",
      "71/71 [==============================] - 2s 29ms/step - loss: 0.3290 - accuracy: 0.8633 - val_loss: 0.1777 - val_accuracy: 0.9441\n",
      "\n",
      "Epoch 00002: val_loss improved from 0.44566 to 0.17773, saving model to OCTvgg16.weights.best.hdf5\n",
      "Epoch 3/20\n",
      "71/71 [==============================] - 2s 29ms/step - loss: 0.1908 - accuracy: 0.9261 - val_loss: 0.1061 - val_accuracy: 0.9658\n",
      "\n",
      "Epoch 00003: val_loss improved from 0.17773 to 0.10612, saving model to OCTvgg16.weights.best.hdf5\n",
      "Epoch 4/20\n",
      "71/71 [==============================] - 2s 29ms/step - loss: 0.1445 - accuracy: 0.9425 - val_loss: 0.0848 - val_accuracy: 0.9752\n",
      "\n",
      "Epoch 00004: val_loss improved from 0.10612 to 0.08482, saving model to OCTvgg16.weights.best.hdf5\n",
      "Epoch 5/20\n",
      "71/71 [==============================] - 2s 28ms/step - loss: 0.0801 - accuracy: 0.9677 - val_loss: 0.1471 - val_accuracy: 0.9534\n",
      "\n",
      "Epoch 00005: val_loss did not improve from 0.08482\n",
      "Epoch 6/20\n",
      "71/71 [==============================] - 2s 28ms/step - loss: 0.1005 - accuracy: 0.9624 - val_loss: 0.0450 - val_accuracy: 0.9845\n",
      "\n",
      "Epoch 00006: val_loss improved from 0.08482 to 0.04503, saving model to OCTvgg16.weights.best.hdf5\n",
      "Epoch 7/20\n",
      "71/71 [==============================] - 2s 29ms/step - loss: 0.0648 - accuracy: 0.9721 - val_loss: 0.0522 - val_accuracy: 0.9814\n",
      "\n",
      "Epoch 00007: val_loss did not improve from 0.04503\n",
      "Epoch 8/20\n",
      "71/71 [==============================] - 3s 39ms/step - loss: 0.0641 - accuracy: 0.9757 - val_loss: 0.0264 - val_accuracy: 0.9907\n",
      "\n",
      "Epoch 00008: val_loss improved from 0.04503 to 0.02644, saving model to OCTvgg16.weights.best.hdf5\n",
      "Epoch 9/20\n",
      "71/71 [==============================] - 3s 41ms/step - loss: 0.0547 - accuracy: 0.9823 - val_loss: 0.0450 - val_accuracy: 0.9845\n",
      "\n",
      "Epoch 00009: val_loss did not improve from 0.02644\n",
      "Epoch 10/20\n",
      "71/71 [==============================] - 2s 31ms/step - loss: 0.0522 - accuracy: 0.9805 - val_loss: 0.0425 - val_accuracy: 0.9876\n",
      "\n",
      "Epoch 00010: val_loss did not improve from 0.02644\n",
      "Epoch 11/20\n",
      "71/71 [==============================] - 2s 29ms/step - loss: 0.0372 - accuracy: 0.9854 - val_loss: 0.0499 - val_accuracy: 0.9814\n",
      "\n",
      "Epoch 00011: val_loss did not improve from 0.02644\n",
      "Epoch 12/20\n",
      "71/71 [==============================] - 2s 28ms/step - loss: 0.0415 - accuracy: 0.9823 - val_loss: 0.0161 - val_accuracy: 0.9938\n",
      "\n",
      "Epoch 00012: val_loss improved from 0.02644 to 0.01605, saving model to OCTvgg16.weights.best.hdf5\n",
      "Epoch 13/20\n",
      "71/71 [==============================] - 2s 28ms/step - loss: 0.0211 - accuracy: 0.9942 - val_loss: 0.0222 - val_accuracy: 0.9907\n",
      "\n",
      "Epoch 00013: val_loss did not improve from 0.01605\n",
      "Epoch 14/20\n",
      "71/71 [==============================] - 2s 29ms/step - loss: 0.0377 - accuracy: 0.9863 - val_loss: 0.0175 - val_accuracy: 0.9907\n",
      "\n",
      "Epoch 00014: val_loss did not improve from 0.01605\n",
      "Epoch 15/20\n",
      "71/71 [==============================] - 2s 30ms/step - loss: 0.0181 - accuracy: 0.9934 - val_loss: 0.0157 - val_accuracy: 0.9969\n",
      "\n",
      "Epoch 00015: val_loss improved from 0.01605 to 0.01567, saving model to OCTvgg16.weights.best.hdf5\n",
      "Epoch 16/20\n",
      "71/71 [==============================] - 2s 28ms/step - loss: 0.0201 - accuracy: 0.9925 - val_loss: 0.0164 - val_accuracy: 0.9938\n",
      "\n",
      "Epoch 00016: val_loss did not improve from 0.01567\n",
      "Epoch 17/20\n",
      "71/71 [==============================] - 2s 29ms/step - loss: 0.0282 - accuracy: 0.9903 - val_loss: 0.0327 - val_accuracy: 0.9907\n",
      "\n",
      "Epoch 00017: val_loss did not improve from 0.01567\n",
      "Epoch 18/20\n",
      "71/71 [==============================] - 2s 29ms/step - loss: 0.0195 - accuracy: 0.9920 - val_loss: 0.0379 - val_accuracy: 0.9907\n",
      "\n",
      "Epoch 00018: val_loss did not improve from 0.01567\n",
      "Epoch 19/20\n",
      "71/71 [==============================] - 2s 29ms/step - loss: 0.0164 - accuracy: 0.9934 - val_loss: 0.0174 - val_accuracy: 0.9907\n",
      "\n",
      "Epoch 00019: val_loss did not improve from 0.01567\n",
      "Epoch 20/20\n",
      "71/71 [==============================] - 2s 29ms/step - loss: 0.0230 - accuracy: 0.9934 - val_loss: 0.0195 - val_accuracy: 0.9907\n",
      "\n",
      "Epoch 00020: val_loss did not improve from 0.01567\n"
     ]
    },
    {
     "data": {
      "text/plain": [
       "'\\n\\nhistory = model.fit(X_train, y_train,\\nepochs=30,\\nbatch_size=20,\\nvalidation_data=(X_val, y_val))'"
      ]
     },
     "execution_count": 36,
     "metadata": {},
     "output_type": "execute_result"
    }
   ],
   "source": [
    "from tensorflow.keras.callbacks import ModelCheckpoint   \n",
    "\n",
    "# train the model\n",
    "checkpointer = ModelCheckpoint(filepath='OCTvgg16.weights.best.hdf5', verbose=1, \n",
    "                             save_best_only=True)\n",
    "model.fit(X_train, y_train, epochs=20, validation_data=(X_val, y_val), \n",
    "          callbacks = checkpointer, verbose=1, shuffle=True)\n"
   ]
  },
  {
   "cell_type": "markdown",
   "metadata": {},
   "source": [
    "# Load the Model with the Best Validation Accuracy"
   ]
  },
  {
   "cell_type": "code",
   "execution_count": 37,
   "metadata": {},
   "outputs": [],
   "source": [
    "#load the weights that yielded the best validation accuracy\n",
    "model.load_weights('OCTvgg16.weights.best.hdf5')"
   ]
  },
  {
   "cell_type": "markdown",
   "metadata": {},
   "source": [
    "# Calculate Classification Accuracy on Test Set"
   ]
  },
  {
   "cell_type": "code",
   "execution_count": 38,
   "metadata": {},
   "outputs": [
    {
     "name": "stdout",
     "output_type": "stream",
     "text": [
      "21/21 [==============================] - 0s 5ms/step - loss: 0.0167 - accuracy: 0.9923\n",
      "Test Loss: 0.016697928309440613\n",
      "Test accuracy: 0.9922958612442017\n"
     ]
    }
   ],
   "source": [
    "score = model.evaluate(X_test, y_test, verbose=1)\n",
    "print('Test Loss:', score[0])\n",
    "print('Test accuracy:', score[1])"
   ]
  },
  {
   "cell_type": "code",
   "execution_count": 39,
   "metadata": {},
   "outputs": [
    {
     "name": "stdout",
     "output_type": "stream",
     "text": [
      "\n",
      "Test accuracy: 99.2296%\n"
     ]
    }
   ],
   "source": [
    "# get index of predicted dog breed for each image in test set\n",
    "vgg16_predictions = [np.argmax(model.predict(np.expand_dims(feature, axis=0))) \n",
    "                     for feature in X_test]\n",
    "\n",
    "# report test accuracy\n",
    "test_accuracy = 100*np.sum(np.array(vgg16_predictions)==\n",
    "                           np.argmax(y_test, axis=1))/len(vgg16_predictions)\n",
    "print('\\nTest accuracy: %.4f%%' % test_accuracy)"
   ]
  },
  {
   "cell_type": "code",
   "execution_count": 48,
   "metadata": {},
   "outputs": [
    {
     "name": "stdout",
     "output_type": "stream",
     "text": [
      "[[8.108e-13 1.079e-09 1.000e+00]\n",
      " [9.744e-04 9.989e-01 9.817e-05]\n",
      " [1.000e+00 5.124e-12 5.571e-19]\n",
      " ...\n",
      " [1.627e-06 6.579e-08 1.000e+00]\n",
      " [1.682e-09 1.000e+00 2.041e-08]\n",
      " [2.057e-07 1.000e+00 9.148e-11]]\n",
      "[2 1 0 2 0 1 1 2 0 0 2 2 0 2 2 2 0 0 2 1 0 2 1 1 2 2 1 1 1 0 0 2 2 2 0 1 0\n",
      " 0 0 1 0 2 2 1 1 1 2 2 0 2 2 1 0 2 2 2 2 0 1 2 1 2 1 2 0 2 2 2 1 1 1 2 2 2\n",
      " 2 1 2 2 1 1 0 2 2 0 1 2 0 2 1 1 1 1 1 0 0 1 2 2 2 1 2 0 1 0 1 1 0 2 2 1 1\n",
      " 2 2 1 1 1 0 2 1 2 1 0 2 1 1 1 2 2 1 1 1 1 1 2 0 2 0 2 1 1 1 1 2 2 2 2 0 1\n",
      " 0 1 1 1 1 1 1 2 2 2 2 1 1 1 1 2 1 1 2 2 1 1 2 1 0 1 0 0 2 2 1 2 1 1 1 0 2\n",
      " 1 2 1 1 1 2 1 1 2 2 2 0 2 2 0 2 0 2 0 0 2 1 1 0 2 2 2 0 2 2 0 1 2 2 2 2 2\n",
      " 2 2 0 1 1 1 2 0 0 2 2 0 2 2 1 1 0 0 1 1 0 0 1 2 1 0 0 2 0 2 2 2 2 2 2 0 0\n",
      " 1 1 0 2 0 1 1 2 0 1 0 2 2 2 2 2 2 0 1 2 2 0 2 0 2 2 1 2 0 1 2 2 1 2 2 2 2\n",
      " 2 1 0 2 2 2 1 1 2 0 1 0 2 2 2 0 2 1 0 0 2 1 1 2 1 2 1 2 1 2 2 2 2 1 0 2 2\n",
      " 0 0 2 1 2 2 2 1 2 2 2 1 0 0 1 0 1 2 2 0 0 2 0 2 1 1 0 1 2 0 0 0 1 2 0 1 1\n",
      " 2 2 2 2 1 1 2 2 1 0 2 0 0 1 1 2 2 2 2 2 1 1 1 2 2 2 1 0 1 0 1 2 1 2 1 1 0\n",
      " 2 1 2 0 0 1 2 2 2 2 2 1 1 2 2 0 2 1 1 2 1 0 2 0 1 0 2 2 0 0 0 0 2 2 1 0 0\n",
      " 1 2 2 0 2 2 1 1 2 0 2 1 2 1 0 1 2 2 1 0 2 0 2 1 1 0 0 1 1 1 1 2 2 2 0 1 2\n",
      " 0 2 2 2 0 2 2 2 1 2 1 1 2 1 2 0 1 0 2 2 2 0 1 1 0 1 1 2 1 2 2 2 2 2 1 1 1\n",
      " 2 0 2 1 2 1 2 1 1 2 2 1 2 2 0 2 0 1 0 0 0 0 2 2 1 1 0 2 0 2 0 1 2 1 2 2 2\n",
      " 0 1 1 0 0 2 2 2 1 2 0 2 2 2 1 0 1 2 1 1 2 2 2 1 1 2 0 1 2 0 1 1 2 1 2 1 2\n",
      " 1 1 2 1 2 1 2 0 0 1 2 1 0 1 2 0 0 2 1 1 0 2 0 0 1 2 2 1 1 1 2 0 0 2 2 1 2\n",
      " 1 2 2 1 2 2 1 2 2 2 0 2 2 2 0 0 2 2 1 1]\n",
      "Confusion matrix, without normalization\n",
      "[[145   0   0]\n",
      " [  2 217   2]\n",
      " [  1   0 282]]\n"
     ]
    },
    {
     "data": {
      "image/png": "[encoded data removed]",
      "text/plain": [
       "<Figure size 576x576 with 2 Axes>"
      ]
     },
     "metadata": {
      "needs_background": "light"
     },
     "output_type": "display_data"
    },
    {
     "name": "stdout",
     "output_type": "stream",
     "text": [
      "              precision    recall  f1-score   support\n",
      "\n",
      "         AMD       0.98      1.00      0.99       145\n",
      "         DME       1.00      0.98      0.99       221\n",
      "      Normal       0.99      1.00      0.99       283\n",
      "\n",
      "    accuracy                           0.99       649\n",
      "   macro avg       0.99      0.99      0.99       649\n",
      "weighted avg       0.99      0.99      0.99       649\n",
      "\n"
     ]
    }
   ],
   "source": [
    "# Predict model on Test Data\n",
    "import seaborn as sn\n",
    "\n",
    "Y_pred = model.predict(X_test)\n",
    "print(Y_pred)\n",
    "\n",
    "# Printing the confusion matrix\n",
    "from sklearn.metrics import classification_report,confusion_matrix\n",
    "import itertools\n",
    "\n",
    "# Print the classes of the Prediction\n",
    "y_pred = np.argmax(Y_pred,axis = 1) \n",
    "print(y_pred)\n",
    "\n",
    "target_names = ['AMD', 'DME', 'Normal']\n",
    "                                        \n",
    "# Plotting the confusion matrix\n",
    "def plot_confusion_matrix(cm, classes,\n",
    "                          normalize=False,\n",
    "                          title='Confusion matrix',\n",
    "                          cmap=plt.cm.Blues):\n",
    "    \"\"\"\n",
    "    This function prints and plots the confusion matrix.\n",
    "    Normalization can be applied by setting `normalize=True`.\n",
    "    \"\"\"\n",
    "    plt.imshow(cm, interpolation='nearest', cmap=cmap)\n",
    "    plt.title(title)\n",
    "    plt.colorbar()\n",
    "    tick_marks = np.arange(len(classes))\n",
    "    plt.xticks(tick_marks, classes, rotation=45)\n",
    "    plt.yticks(tick_marks, classes)\n",
    "\n",
    "    if normalize:\n",
    "        cm = cm.astype('float') / cm.sum(axis=1)[:, np.newaxis]\n",
    "        print(\"Normalized confusion matrix\")\n",
    "    else:\n",
    "        print('Confusion matrix, without normalization')\n",
    "\n",
    "    print(cm)\n",
    "\n",
    "    thresh = cm.max() / 2.\n",
    "    for i, j in itertools.product(range(cm.shape[0]), range(cm.shape[1])):\n",
    "        plt.text(j, i, cm[i, j],\n",
    "                 horizontalalignment=\"center\",\n",
    "                 color=\"white\" if cm[i, j] > thresh else \"black\")\n",
    "\n",
    "    plt.tight_layout()\n",
    "    plt.ylabel('True label')\n",
    "    plt.xlabel('Predicted label')\n",
    "\n",
    "#Computation  confusion matrix\n",
    "cnf_matrix = (confusion_matrix(np.argmax(y_test,axis=1), y_pred))\n",
    "\n",
    "np.set_printoptions(precision=3)\n",
    "\n",
    "plt.figure()\n",
    "\n",
    "# Plotting non-normalized confusion matrix\n",
    "plot_confusion_matrix(cnf_matrix, classes=target_names,\n",
    "                      title='Confusion matrix')\n",
    "plt.show()\n",
    "\n",
    "import numpy as np\n",
    "rounded_labels=np.argmax(y_test, axis=1)\n",
    "rounded_labels[1]\n",
    "\n",
    "print(classification_report(rounded_labels, y_pred, target_names=target_names))"
   ]
  },
  {
   "cell_type": "code",
   "execution_count": null,
   "metadata": {},
   "outputs": [],
   "source": []
  },
  {
   "cell_type": "code",
   "execution_count": null,
   "metadata": {},
   "outputs": [],
   "source": []
  }
 ],
 "metadata": {
  "kernelspec": {
   "display_name": "Python 3",
   "language": "python",
   "name": "python3"
  },
  "language_info": {
   "codemirror_mode": {
    "name": "ipython",
    "version": 3
   },
   "file_extension": ".py",
   "mimetype": "text/x-python",
   "name": "python",
   "nbconvert_exporter": "python",
   "pygments_lexer": "ipython3",
   "version": "3.8.8"
  }
 },
 "nbformat": 4,
 "nbformat_minor": 4
}
