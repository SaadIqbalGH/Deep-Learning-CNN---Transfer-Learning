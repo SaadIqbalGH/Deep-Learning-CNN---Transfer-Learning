{
 "cells": [
  {
   "cell_type": "code",
   "execution_count": 9,
   "metadata": {},
   "outputs": [],
   "source": [
    "import os\n",
    "import numpy as np\n",
    "import pandas as pd\n",
    "import tensorflow as tf\n",
    "\n",
    "import matplotlib.pyplot as plt"
   ]
  },
  {
   "cell_type": "markdown",
   "metadata": {},
   "source": [
    "# Image File Renaming and Merging Sub-Folders Data"
   ]
  },
  {
   "cell_type": "code",
   "execution_count": 10,
   "metadata": {},
   "outputs": [
    {
     "data": {
      "text/plain": [
       "'\\npath = \\'D:/My Documents New/DL ML BC CC/Dice Analytics/Assignment/Project 1/OCT_Dataset_TL\\'\\ndata_dir_list = os.listdir(path) # converting class folder names to list\\n#print(data_dir_list)\\nno_images=0\\nimg=0\\n\\nfor dataset in data_dir_list:                          # to dataset subfolder/class name\\n    img_list = os.listdir(path + \\'/\\' + dataset)        # accessing images\\' names of subfolder as list\\n    new_dir_AMD = \\'D:/My Documents New/DL ML BC CC/Dice Analytics/Assignment/Project 1/OCT_Dataset_TL_New/AMD\\'\\n    new_dir_DME = \\'D:/My Documents New/DL ML BC CC/Dice Analytics/Assignment/Project 1/OCT_Dataset_TL_New/DME\\'\\n    new_dir_NORMAL = \\'D:/My Documents New/DL ML BC CC/Dice Analytics/Assignment/Project 1/OCT_Dataset_TL_New/NORMAL\\'\\n\\nfor img in img_list:\\n        old_name = path + \\'/\\' + dataset + \\'/\\' + img\\n        new_name = dataset + \"_\" + img \\n        if dataset[0]==  \\'A\\':\\n            dst1 = new_dir_AMD + \\'/\\' + new_name\\n \\n        if dataset[0]==  \\'D\\':\\n            dst1 = new_dir_DME + \\'/\\' + new_name\\n        \\n        if dataset[0]==  \\'N\\':\\n            dst1 = new_dir_NORMAL + \\'/\\' + new_name\\n        \\n        os.rename(old_name, dst1)        # e.g. image 01.tif from subfolder AMD1 is renamed to AMD1_01.tif  '"
      ]
     },
     "execution_count": 10,
     "metadata": {},
     "output_type": "execute_result"
    }
   ],
   "source": [
    "#### Image File Renaming Utility to Automate the image file names and copying the renamed images into 1 0f 3 \n",
    "# classes / lables respectively: This code was run once to do the job !\n",
    "\n",
    "# --------------------------------------------------------------------------------------------#\n",
    "\"\"\"\n",
    "path = 'D:/My Documents New/DL ML BC CC/Dice Analytics/Assignment/Project 1/OCT_Dataset_TL'\n",
    "data_dir_list = os.listdir(path) # converting class folder names to list\n",
    "#print(data_dir_list)\n",
    "no_images=0\n",
    "img=0\n",
    "\n",
    "for dataset in data_dir_list:                          # to dataset subfolder/class name\n",
    "    img_list = os.listdir(path + '/' + dataset)        # accessing images' names of subfolder as list\n",
    "    new_dir_AMD = 'D:/My Documents New/DL ML BC CC/Dice Analytics/Assignment/Project 1/OCT_Dataset_TL_New/AMD'\n",
    "    new_dir_DME = 'D:/My Documents New/DL ML BC CC/Dice Analytics/Assignment/Project 1/OCT_Dataset_TL_New/DME'\n",
    "    new_dir_NORMAL = 'D:/My Documents New/DL ML BC CC/Dice Analytics/Assignment/Project 1/OCT_Dataset_TL_New/NORMAL'\n",
    "\n",
    "for img in img_list:\n",
    "        old_name = path + '/' + dataset + '/' + img\n",
    "        new_name = dataset + \"_\" + img \n",
    "        if dataset[0]==  'A':\n",
    "            dst1 = new_dir_AMD + '/' + new_name\n",
    " \n",
    "        if dataset[0]==  'D':\n",
    "            dst1 = new_dir_DME + '/' + new_name\n",
    "        \n",
    "        if dataset[0]==  'N':\n",
    "            dst1 = new_dir_NORMAL + '/' + new_name\n",
    "        \n",
    "        os.rename(old_name, dst1)        # e.g. image 01.tif from subfolder AMD1 is renamed to AMD1_01.tif  \"\"\"   \n",
    "        \n"
   ]
  },
  {
   "cell_type": "markdown",
   "metadata": {},
   "source": [
    "# Spliting Data/Folders into train, validation and test "
   ]
  },
  {
   "cell_type": "code",
   "execution_count": 11,
   "metadata": {},
   "outputs": [],
   "source": [
    "#import splitfolders\n",
    "#splitfolders.ratio('D:/My Documents New/DL ML BC CC/Dice Analytics/Assignment/Project 1/OCT_Dataset_TL_New', output=\"OCT_test_val_train_Dataset_TL\", seed=1337, ratio=(0.7,0.1,0.2)) \n",
    "\n",
    "#Uncomment code to split dataset (train:val:test --> 0.7:0.1:0.2)"
   ]
  },
  {
   "cell_type": "code",
   "execution_count": 12,
   "metadata": {},
   "outputs": [],
   "source": [
    "train_data_dir = \"D:/My Documents New/DL ML BC CC/Dice Analytics/Assignment/Project 1/OCT_test_val_train_Dataset_TL/train\"\n",
    "val_data_dir = \"D:/My Documents New/DL ML BC CC/Dice Analytics/Assignment/Project 1/OCT_test_val_train_Dataset_TL/val\"\n",
    "test_data_dir = \"D:/My Documents New/DL ML BC CC/Dice Analytics/Assignment/Project 1/OCT_test_val_train_Dataset_TL/test\""
   ]
  },
  {
   "cell_type": "code",
   "execution_count": 13,
   "metadata": {
    "scrolled": false
   },
   "outputs": [
    {
     "name": "stdout",
     "output_type": "stream",
     "text": [
      "\t\tAMD:  723 \tDME:  1101 \tNORMAL:  1407 \n",
      "\n",
      "\tTotal Images:  3231\n"
     ]
    },
    {
     "data": {
      "image/png": "[encoded data removed]",
      "text/plain": [
       "<Figure size 576x576 with 1 Axes>"
      ]
     },
     "metadata": {
      "needs_background": "light"
     },
     "output_type": "display_data"
    }
   ],
   "source": [
    "data_dir = 'D:/My Documents New/DL ML BC CC/Dice Analytics/Assignment/Project 1/OCT_Dataset_TL_New'\n",
    "\n",
    "data_dir_list = os.listdir(data_dir)\n",
    "\n",
    "no_images=0\n",
    "for dataset in data_dir_list:\n",
    "    if dataset[0] == 'A':\n",
    "        amd_images = len(os.listdir(data_dir + '/' + dataset))\n",
    "\n",
    "    if dataset[0] == 'D':\n",
    "        dme_images = len(os.listdir(data_dir + '/' + dataset))\n",
    "    \n",
    "    if dataset[0] == 'N':\n",
    "        normal_images = len(os.listdir(data_dir + '/' + dataset))\n",
    "\n",
    "print('\\t\\tAMD: ' , amd_images, '\\tDME: ', dme_images, '\\tNORMAL: ', normal_images, '\\n\\n\\tTotal Images: ', amd_images + dme_images + normal_images)\n",
    "\n",
    "data= {'AMD': amd_images, 'DME': dme_images, 'NORMAL': normal_images}\n",
    "labels = list(data.keys()) \n",
    "count = list(data.values()) \n",
    "\n",
    "plt.rcParams['figure.figsize'] = (8.0, 8.0)\n",
    "plt.bar(labels, count, color=['tab:red', 'tab:green', 'tab:blue'])\n",
    "plt.axis('on')\n",
    "plt.xlabel(\"Labels\") \n",
    "plt.ylabel(\"Count\") \n",
    "plt.savefig('labels_vs_counts.png', transparent= False, bbox_inches= 'tight', dpi= 400)\n",
    "plt.show()\n"
   ]
  },
  {
   "cell_type": "markdown",
   "metadata": {},
   "source": [
    "# VGG-16 Model, with the Final Fully-Connected Layers Removed"
   ]
  },
  {
   "cell_type": "code",
   "execution_count": 14,
   "metadata": {},
   "outputs": [],
   "source": [
    "img_width, img_height = 150, 150 \n",
    "channels = 3\n",
    "batch_size = 32"
   ]
  },
  {
   "cell_type": "code",
   "execution_count": 15,
   "metadata": {},
   "outputs": [
    {
     "name": "stdout",
     "output_type": "stream",
     "text": [
      "Model: \"vgg16\"\n",
      "_________________________________________________________________\n",
      "Layer (type)                 Output Shape              Param #   \n",
      "=================================================================\n",
      "input_3 (InputLayer)         [(None, 150, 150, 3)]     0         \n",
      "_________________________________________________________________\n",
      "block1_conv1 (Conv2D)        (None, 150, 150, 64)      1792      \n",
      "_________________________________________________________________\n",
      "block1_conv2 (Conv2D)        (None, 150, 150, 64)      36928     \n",
      "_________________________________________________________________\n",
      "block1_pool (MaxPooling2D)   (None, 75, 75, 64)        0         \n",
      "_________________________________________________________________\n",
      "block2_conv1 (Conv2D)        (None, 75, 75, 128)       73856     \n",
      "_________________________________________________________________\n",
      "block2_conv2 (Conv2D)        (None, 75, 75, 128)       147584    \n",
      "_________________________________________________________________\n",
      "block2_pool (MaxPooling2D)   (None, 37, 37, 128)       0         \n",
      "_________________________________________________________________\n",
      "block3_conv1 (Conv2D)        (None, 37, 37, 256)       295168    \n",
      "_________________________________________________________________\n",
      "block3_conv2 (Conv2D)        (None, 37, 37, 256)       590080    \n",
      "_________________________________________________________________\n",
      "block3_conv3 (Conv2D)        (None, 37, 37, 256)       590080    \n",
      "_________________________________________________________________\n",
      "block3_pool (MaxPooling2D)   (None, 18, 18, 256)       0         \n",
      "_________________________________________________________________\n",
      "block4_conv1 (Conv2D)        (None, 18, 18, 512)       1180160   \n",
      "_________________________________________________________________\n",
      "block4_conv2 (Conv2D)        (None, 18, 18, 512)       2359808   \n",
      "_________________________________________________________________\n",
      "block4_conv3 (Conv2D)        (None, 18, 18, 512)       2359808   \n",
      "_________________________________________________________________\n",
      "block4_pool (MaxPooling2D)   (None, 9, 9, 512)         0         \n",
      "_________________________________________________________________\n",
      "block5_conv1 (Conv2D)        (None, 9, 9, 512)         2359808   \n",
      "_________________________________________________________________\n",
      "block5_conv2 (Conv2D)        (None, 9, 9, 512)         2359808   \n",
      "_________________________________________________________________\n",
      "block5_conv3 (Conv2D)        (None, 9, 9, 512)         2359808   \n",
      "_________________________________________________________________\n",
      "block5_pool (MaxPooling2D)   (None, 4, 4, 512)         0         \n",
      "=================================================================\n",
      "Total params: 14,714,688\n",
      "Trainable params: 14,714,688\n",
      "Non-trainable params: 0\n",
      "_________________________________________________________________\n"
     ]
    }
   ],
   "source": [
    "from tensorflow.keras.applications.vgg16 import VGG16\n",
    "\n",
    "vgg16 = VGG16(include_top= False, input_shape= (img_width, img_height, channels), weights= 'imagenet')\n",
    "vgg16.summary()"
   ]
  },
  {
   "cell_type": "markdown",
   "metadata": {},
   "source": [
    "# Data Pre-Processing and Feature Extraction with Image Augmentation"
   ]
  },
  {
   "cell_type": "code",
   "execution_count": 16,
   "metadata": {},
   "outputs": [],
   "source": [
    "from tensorflow.keras.preprocessing.image import ImageDataGenerator\n",
    "\n",
    "train_datagen = ImageDataGenerator(\n",
    "    rescale= 1./255,\n",
    "    zoom_range= (0.73, 0.9),\n",
    "    horizontal_flip= True,\n",
    "    rotation_range= 10,\n",
    "    width_shift_range= 0.10,\n",
    "    fill_mode= 'constant',\n",
    "    height_shift_range= 0.10,   \n",
    "    brightness_range= (0.55, 0.9),\n",
    ")\n",
    "\n",
    "valid_test_datagen = ImageDataGenerator(\n",
    "    rescale= 1./255, \n",
    ")"
   ]
  },
  {
   "cell_type": "code",
   "execution_count": 18,
   "metadata": {},
   "outputs": [
    {
     "name": "stdout",
     "output_type": "stream",
     "text": [
      "training data:\n",
      "Found 2260 images belonging to 3 classes.\n",
      "\n",
      "validation data:\n",
      "Found 322 images belonging to 3 classes.\n",
      "\n",
      "test data:\n",
      "Found 649 images belonging to 3 classes.\n"
     ]
    }
   ],
   "source": [
    "print('training data:')\n",
    "\n",
    "train_generator = train_datagen.flow_from_directory(  \n",
    "    train_data_dir,  \n",
    "    target_size= (img_width, img_height), \n",
    "    color_mode= 'rgb',\n",
    "    batch_size= batch_size,  \n",
    "    class_mode= 'categorical',\n",
    "    shuffle= True, \n",
    "    seed= 1337\n",
    ") \n",
    "\n",
    "print('\\nvalidation data:')\n",
    "\n",
    "valid_generator = valid_test_datagen.flow_from_directory(\n",
    "    val_data_dir,\n",
    "    target_size= (img_width, img_height),\n",
    "    color_mode= 'rgb',\n",
    "    batch_size= batch_size,  \n",
    "    class_mode= 'categorical',\n",
    "    shuffle= True, \n",
    "    seed= 1337\n",
    ")\n",
    "\n",
    "print('\\ntest data:')\n",
    "\n",
    "test_generator = valid_test_datagen.flow_from_directory(  \n",
    "    test_data_dir,  \n",
    "    target_size= (img_width, img_height), \n",
    "    color_mode= 'rgb',\n",
    "    batch_size= batch_size,        \n",
    "    class_mode= 'categorical',\n",
    "    shuffle= False, \n",
    ")"
   ]
  },
  {
   "cell_type": "code",
   "execution_count": 20,
   "metadata": {},
   "outputs": [],
   "source": [
    "from tensorflow.keras.utils import to_categorical\n",
    "\n",
    "num_classes = len(train_generator.class_indices)  \n",
    "train_labels = train_generator.classes \n",
    "train_labels = to_categorical(train_labels, num_classes=num_classes)\n",
    "valid_labels = valid_generator.classes \n",
    "valid_labels = to_categorical(valid_labels, num_classes=num_classes)\n",
    "nb_train_samples = len(train_generator.filenames)  \n",
    "nb_valid_samples = len(valid_generator.filenames)\n",
    "nb_test_samples = len(test_generator.filenames)"
   ]
  },
  {
   "cell_type": "markdown",
   "metadata": {},
   "source": [
    "#  Model Architecture"
   ]
  },
  {
   "cell_type": "code",
   "execution_count": 58,
   "metadata": {},
   "outputs": [
    {
     "name": "stdout",
     "output_type": "stream",
     "text": [
      "Model: \"sequential_7\"\n",
      "_________________________________________________________________\n",
      "Layer (type)                 Output Shape              Param #   \n",
      "=================================================================\n",
      "block1_conv1 (Conv2D)        (None, 150, 150, 64)      1792      \n",
      "_________________________________________________________________\n",
      "block1_conv2 (Conv2D)        (None, 150, 150, 64)      36928     \n",
      "_________________________________________________________________\n",
      "block1_pool (MaxPooling2D)   (None, 75, 75, 64)        0         \n",
      "_________________________________________________________________\n",
      "block2_conv1 (Conv2D)        (None, 75, 75, 128)       73856     \n",
      "_________________________________________________________________\n",
      "block2_conv2 (Conv2D)        (None, 75, 75, 128)       147584    \n",
      "_________________________________________________________________\n",
      "block2_pool (MaxPooling2D)   (None, 37, 37, 128)       0         \n",
      "_________________________________________________________________\n",
      "block3_conv1 (Conv2D)        (None, 37, 37, 256)       295168    \n",
      "_________________________________________________________________\n",
      "block3_conv2 (Conv2D)        (None, 37, 37, 256)       590080    \n",
      "_________________________________________________________________\n",
      "block3_conv3 (Conv2D)        (None, 37, 37, 256)       590080    \n",
      "_________________________________________________________________\n",
      "block3_pool (MaxPooling2D)   (None, 18, 18, 256)       0         \n",
      "_________________________________________________________________\n",
      "block4_conv1 (Conv2D)        (None, 18, 18, 512)       1180160   \n",
      "_________________________________________________________________\n",
      "block4_conv2 (Conv2D)        (None, 18, 18, 512)       2359808   \n",
      "_________________________________________________________________\n",
      "block4_conv3 (Conv2D)        (None, 18, 18, 512)       2359808   \n",
      "_________________________________________________________________\n",
      "block4_pool (MaxPooling2D)   (None, 9, 9, 512)         0         \n",
      "_________________________________________________________________\n",
      "block5_conv1 (Conv2D)        (None, 9, 9, 512)         2359808   \n",
      "_________________________________________________________________\n",
      "block5_conv2 (Conv2D)        (None, 9, 9, 512)         2359808   \n",
      "_________________________________________________________________\n",
      "block5_conv3 (Conv2D)        (None, 9, 9, 512)         2359808   \n",
      "_________________________________________________________________\n",
      "block5_pool (MaxPooling2D)   (None, 4, 4, 512)         0         \n",
      "_________________________________________________________________\n",
      "flatten_4 (Flatten)          (None, 8192)              0         \n",
      "_________________________________________________________________\n",
      "dropout_5 (Dropout)          (None, 8192)              0         \n",
      "_________________________________________________________________\n",
      "dense_7 (Dense)              (None, 3)                 24579     \n",
      "=================================================================\n",
      "Total params: 14,739,267\n",
      "Trainable params: 24,579\n",
      "Non-trainable params: 14,714,688\n",
      "_________________________________________________________________\n"
     ]
    }
   ],
   "source": [
    "from tensorflow.keras import models, layers\n",
    "from tensorflow.keras import optimizers\n",
    "from tensorflow.keras.layers import Dense, Flatten, Dropout\n",
    "from tensorflow.keras.models import Sequential\n",
    "\n",
    "\n",
    "model = Sequential()\n",
    "\n",
    "for layer in vgg16.layers:\n",
    "    model.add(layer)\n",
    "\n",
    "for layer in model.layers:\n",
    "    layer.trainable= False\n",
    "\n",
    "model.add(Flatten(input_shape= (4, 4, 512)))\n",
    "model.add(Dropout(0.2))\n",
    "model.add(Dense(3,activation='softmax'))\n",
    "\n",
    "model.summary()"
   ]
  },
  {
   "cell_type": "markdown",
   "metadata": {},
   "source": [
    "# Compile the Model"
   ]
  },
  {
   "cell_type": "code",
   "execution_count": 59,
   "metadata": {},
   "outputs": [],
   "source": [
    "from tensorflow.keras.optimizers import Adam\n",
    "\n",
    "optimizers = Adam(learning_rate= 0.0001)\n",
    "model.compile(optimizer= optimizers, loss= 'categorical_crossentropy', \n",
    "              metrics= ['acc'])"
   ]
  },
  {
   "cell_type": "markdown",
   "metadata": {},
   "source": [
    "# Helper Functions"
   ]
  },
  {
   "cell_type": "code",
   "execution_count": 60,
   "metadata": {},
   "outputs": [],
   "source": [
    "from tensorflow.keras.callbacks import ModelCheckpoint, EarlyStopping, CSVLogger, ReduceLROnPlateau\n",
    "\n",
    "checkpoint = ModelCheckpoint(\n",
    "    'baseline_model.h5',\n",
    "    monitor='val_loss',\n",
    "    verbose=1,\n",
    "    save_best_only=True,\n",
    "    mode='auto',\n",
    "    save_weights_only=False,\n",
    ")\n",
    "\n",
    "earlystop = EarlyStopping(\n",
    "    monitor='val_loss',\n",
    "    min_delta=0.001,\n",
    "    patience=3,\n",
    "    verbose=1,\n",
    "    mode='auto'\n",
    ")\n",
    "\n",
    "csvlogger = CSVLogger(\n",
    "    filename= \"baseline_training_csv.log\",\n",
    "    separator = \",\",\n",
    "    append = False\n",
    ")\n",
    "\n",
    "reduceLR = ReduceLROnPlateau(\n",
    "    monitor='val_loss',\n",
    "    factor=0.1,\n",
    "    patience=3,\n",
    "    verbose=1, \n",
    "    mode='auto'\n",
    ")\n",
    "\n",
    "callbacks = [checkpoint, earlystop, csvlogger,reduceLR]"
   ]
  },
  {
   "cell_type": "markdown",
   "metadata": {},
   "source": [
    "# Train the Model"
   ]
  },
  {
   "cell_type": "code",
   "execution_count": 61,
   "metadata": {},
   "outputs": [
    {
     "name": "stdout",
     "output_type": "stream",
     "text": [
      "Epoch 1/30\n",
      "70/70 - 355s - loss: 1.0569 - acc: 0.4852 - val_loss: 0.8174 - val_acc: 0.6781\n",
      "\n",
      "Epoch 00001: val_loss improved from inf to 0.81740, saving model to baseline_model.h5\n",
      "Epoch 2/30\n",
      "70/70 - 363s - loss: 0.8016 - acc: 0.6531 - val_loss: 0.7083 - val_acc: 0.7063\n",
      "\n",
      "Epoch 00002: val_loss improved from 0.81740 to 0.70833, saving model to baseline_model.h5\n",
      "Epoch 3/30\n",
      "70/70 - 350s - loss: 0.7126 - acc: 0.6845 - val_loss: 0.6332 - val_acc: 0.7563\n",
      "\n",
      "Epoch 00003: val_loss improved from 0.70833 to 0.63323, saving model to baseline_model.h5\n",
      "Epoch 4/30\n",
      "70/70 - 359s - loss: 0.6308 - acc: 0.7513 - val_loss: 0.5790 - val_acc: 0.7656\n",
      "\n",
      "Epoch 00004: val_loss improved from 0.63323 to 0.57896, saving model to baseline_model.h5\n",
      "Epoch 5/30\n",
      "70/70 - 353s - loss: 0.5802 - acc: 0.7760 - val_loss: 0.5455 - val_acc: 0.7969\n",
      "\n",
      "Epoch 00005: val_loss improved from 0.57896 to 0.54552, saving model to baseline_model.h5\n",
      "Epoch 6/30\n",
      "70/70 - 344s - loss: 0.5327 - acc: 0.7980 - val_loss: 0.5228 - val_acc: 0.7719\n",
      "\n",
      "Epoch 00006: val_loss improved from 0.54552 to 0.52275, saving model to baseline_model.h5\n",
      "Epoch 7/30\n",
      "70/70 - 362s - loss: 0.5121 - acc: 0.8097 - val_loss: 0.5102 - val_acc: 0.7937\n",
      "\n",
      "Epoch 00007: val_loss improved from 0.52275 to 0.51020, saving model to baseline_model.h5\n",
      "Epoch 8/30\n",
      "70/70 - 328s - loss: 0.4700 - acc: 0.8344 - val_loss: 0.4572 - val_acc: 0.8281\n",
      "\n",
      "Epoch 00008: val_loss improved from 0.51020 to 0.45723, saving model to baseline_model.h5\n",
      "Epoch 9/30\n",
      "70/70 - 326s - loss: 0.4322 - acc: 0.8505 - val_loss: 0.4486 - val_acc: 0.8406\n",
      "\n",
      "Epoch 00009: val_loss improved from 0.45723 to 0.44857, saving model to baseline_model.h5\n",
      "Epoch 10/30\n",
      "70/70 - 322s - loss: 0.4311 - acc: 0.8501 - val_loss: 0.4292 - val_acc: 0.8500\n",
      "\n",
      "Epoch 00010: val_loss improved from 0.44857 to 0.42919, saving model to baseline_model.h5\n",
      "Epoch 11/30\n",
      "70/70 - 322s - loss: 0.4037 - acc: 0.8559 - val_loss: 0.4086 - val_acc: 0.8625\n",
      "\n",
      "Epoch 00011: val_loss improved from 0.42919 to 0.40864, saving model to baseline_model.h5\n",
      "Epoch 12/30\n",
      "70/70 - 323s - loss: 0.3912 - acc: 0.8676 - val_loss: 0.4038 - val_acc: 0.8594\n",
      "\n",
      "Epoch 00012: val_loss improved from 0.40864 to 0.40380, saving model to baseline_model.h5\n",
      "Epoch 13/30\n",
      "70/70 - 323s - loss: 0.3755 - acc: 0.8752 - val_loss: 0.3824 - val_acc: 0.8625\n",
      "\n",
      "Epoch 00013: val_loss improved from 0.40380 to 0.38244, saving model to baseline_model.h5\n",
      "Epoch 14/30\n",
      "70/70 - 324s - loss: 0.3688 - acc: 0.8802 - val_loss: 0.3670 - val_acc: 0.8875\n",
      "\n",
      "Epoch 00014: val_loss improved from 0.38244 to 0.36696, saving model to baseline_model.h5\n",
      "Epoch 15/30\n",
      "70/70 - 336s - loss: 0.3494 - acc: 0.8878 - val_loss: 0.3611 - val_acc: 0.8844\n",
      "\n",
      "Epoch 00015: val_loss improved from 0.36696 to 0.36112, saving model to baseline_model.h5\n",
      "Epoch 16/30\n",
      "70/70 - 322s - loss: 0.3356 - acc: 0.8873 - val_loss: 0.3508 - val_acc: 0.8781\n",
      "\n",
      "Epoch 00016: val_loss improved from 0.36112 to 0.35083, saving model to baseline_model.h5\n",
      "Epoch 17/30\n",
      "70/70 - 331s - loss: 0.3292 - acc: 0.8972 - val_loss: 0.3386 - val_acc: 0.8969\n",
      "\n",
      "Epoch 00017: val_loss improved from 0.35083 to 0.33861, saving model to baseline_model.h5\n",
      "Epoch 18/30\n",
      "70/70 - 331s - loss: 0.3157 - acc: 0.9039 - val_loss: 0.3325 - val_acc: 0.8969\n",
      "\n",
      "Epoch 00018: val_loss improved from 0.33861 to 0.33247, saving model to baseline_model.h5\n",
      "Epoch 19/30\n",
      "70/70 - 334s - loss: 0.3134 - acc: 0.9062 - val_loss: 0.3222 - val_acc: 0.9000\n",
      "\n",
      "Epoch 00019: val_loss improved from 0.33247 to 0.32221, saving model to baseline_model.h5\n",
      "Epoch 20/30\n",
      "70/70 - 328s - loss: 0.3029 - acc: 0.9075 - val_loss: 0.3155 - val_acc: 0.9000\n",
      "\n",
      "Epoch 00020: val_loss improved from 0.32221 to 0.31552, saving model to baseline_model.h5\n",
      "Epoch 21/30\n",
      "70/70 - 328s - loss: 0.3050 - acc: 0.8959 - val_loss: 0.3160 - val_acc: 0.9031\n",
      "\n",
      "Epoch 00021: val_loss did not improve from 0.31552\n",
      "Epoch 22/30\n",
      "70/70 - 326s - loss: 0.2838 - acc: 0.9179 - val_loss: 0.2997 - val_acc: 0.9094\n",
      "\n",
      "Epoch 00022: val_loss improved from 0.31552 to 0.29972, saving model to baseline_model.h5\n",
      "Epoch 23/30\n",
      "70/70 - 327s - loss: 0.2861 - acc: 0.9057 - val_loss: 0.2986 - val_acc: 0.9187\n",
      "\n",
      "Epoch 00023: val_loss improved from 0.29972 to 0.29861, saving model to baseline_model.h5\n",
      "Epoch 24/30\n",
      "70/70 - 325s - loss: 0.2793 - acc: 0.9183 - val_loss: 0.2994 - val_acc: 0.9031\n",
      "\n",
      "Epoch 00024: val_loss did not improve from 0.29861\n",
      "Epoch 25/30\n",
      "70/70 - 327s - loss: 0.2735 - acc: 0.9152 - val_loss: 0.2869 - val_acc: 0.9125\n",
      "\n",
      "Epoch 00025: val_loss improved from 0.29861 to 0.28688, saving model to baseline_model.h5\n",
      "Epoch 26/30\n",
      "70/70 - 330s - loss: 0.2659 - acc: 0.9125 - val_loss: 0.2884 - val_acc: 0.9062\n",
      "\n",
      "Epoch 00026: val_loss did not improve from 0.28688\n",
      "Epoch 27/30\n",
      "70/70 - 333s - loss: 0.2640 - acc: 0.9197 - val_loss: 0.2723 - val_acc: 0.9187\n",
      "\n",
      "Epoch 00027: val_loss improved from 0.28688 to 0.27229, saving model to baseline_model.h5\n",
      "Epoch 28/30\n",
      "70/70 - 325s - loss: 0.2613 - acc: 0.9183 - val_loss: 0.2659 - val_acc: 0.9187\n",
      "\n",
      "Epoch 00028: val_loss improved from 0.27229 to 0.26595, saving model to baseline_model.h5\n",
      "Epoch 29/30\n",
      "70/70 - 327s - loss: 0.2520 - acc: 0.9273 - val_loss: 0.2543 - val_acc: 0.9312\n",
      "\n",
      "Epoch 00029: val_loss improved from 0.26595 to 0.25425, saving model to baseline_model.h5\n",
      "Epoch 30/30\n",
      "70/70 - 320s - loss: 0.2530 - acc: 0.9246 - val_loss: 0.2611 - val_acc: 0.9187\n",
      "\n",
      "Epoch 00030: val_loss did not improve from 0.25425\n"
     ]
    }
   ],
   "source": [
    "history = model.fit(\n",
    "    train_generator, \n",
    "    epochs = 30,\n",
    "    steps_per_epoch = nb_train_samples//batch_size,\n",
    "    validation_data = valid_generator, \n",
    "    validation_steps = nb_valid_samples//batch_size,\n",
    "    verbose = 2,\n",
    "    callbacks = callbacks,\n",
    "    shuffle = True\n",
    ")"
   ]
  },
  {
   "cell_type": "code",
   "execution_count": 65,
   "metadata": {},
   "outputs": [
    {
     "data": {
      "image/png": "[encoded data removed]",
      "text/plain": [
       "<Figure size 432x288 with 1 Axes>"
      ]
     },
     "metadata": {
      "needs_background": "light"
     },
     "output_type": "display_data"
    },
    {
     "data": {
      "image/png": "[encoded data removed]",
      "text/plain": [
       "<Figure size 432x288 with 1 Axes>"
      ]
     },
     "metadata": {
      "needs_background": "light"
     },
     "output_type": "display_data"
    }
   ],
   "source": [
    "plt.subplot()\n",
    "plt.rcParams['figure.figsize'] = (6.0, 4.0)\n",
    "plt.title('Baseline Model Accuracy')\n",
    "plt.plot(history.history['acc'])\n",
    "plt.plot(history.history['val_acc'])\n",
    "plt.ylabel('Accuracy')\n",
    "plt.xlabel('Epochs')\n",
    "plt.legend(['Training Accuracy','Validation Accuracy'])\n",
    "plt.savefig('baseline_acc_epoch.png', transparent= False, bbox_inches= 'tight', dpi= 400)\n",
    "plt.show()\n",
    "\n",
    "plt.subplot()\n",
    "plt.title('Baseline Model Loss')\n",
    "plt.plot(history.history['loss'])\n",
    "plt.plot(history.history['val_loss'])\n",
    "plt.ylabel('Loss')\n",
    "plt.xlabel('Epochs')\n",
    "plt.legend(['Training Loss','Validation Loss'])\n",
    "plt.savefig('baseline_loss_epoch.png', transparent= False, bbox_inches= 'tight', dpi= 400)\n",
    "plt.show()"
   ]
  },
  {
   "cell_type": "code",
   "execution_count": 66,
   "metadata": {},
   "outputs": [
    {
     "name": "stdout",
     "output_type": "stream",
     "text": [
      "21/21 [==============================] - 75s 4s/step - loss: 0.2417 - acc: 0.9322\n",
      "Test Loss:  0.24165746569633484\n",
      "Test Accuracy:  0.9322034120559692\n"
     ]
    }
   ],
   "source": [
    "(eval_loss, eval_accuracy) = model.evaluate(test_generator, batch_size= batch_size, verbose= 1)\n",
    "print('Test Loss: ', eval_loss)\n",
    "print('Test Accuracy: ', eval_accuracy)"
   ]
  },
  {
   "cell_type": "code",
   "execution_count": 69,
   "metadata": {},
   "outputs": [
    {
     "data": {
      "image/png": "[encoded data removed]",
      "text/plain": [
       "<Figure size 720x576 with 2 Axes>"
      ]
     },
     "metadata": {
      "needs_background": "light"
     },
     "output_type": "display_data"
    },
    {
     "name": "stdout",
     "output_type": "stream",
     "text": [
      "Classification Report\n",
      "\n",
      "              precision    recall  f1-score   support\n",
      "\n",
      "         AMD       0.87      0.98      0.92       145\n",
      "         DME       0.96      0.85      0.90       221\n",
      "      NORMAL       0.95      0.97      0.96       283\n",
      "\n",
      "    accuracy                           0.93       649\n",
      "   macro avg       0.93      0.93      0.93       649\n",
      "weighted avg       0.93      0.93      0.93       649\n",
      "\n"
     ]
    }
   ],
   "source": [
    "from sklearn.metrics import classification_report, confusion_matrix\n",
    "import seaborn as sn\n",
    "\n",
    "Y_pred = model.predict(test_generator, nb_test_samples // batch_size+1)\n",
    "y_pred = np.argmax(Y_pred, axis=1)\n",
    "cm = confusion_matrix(test_generator.classes, y_pred)\n",
    "df_cm = pd.DataFrame(cm, list(test_generator.class_indices.keys()), list(test_generator.class_indices.keys()))\n",
    "fig, ax = plt.subplots(figsize=(10,8))\n",
    "sn.set(font_scale=1.4) # for label size\n",
    "sn.heatmap(df_cm, annot=True, annot_kws={\"size\": 16}, cmap=plt.cm.Blues)\n",
    "plt.title('Confusion Matrix\\n')\n",
    "plt.savefig('confusion_matrix.png', transparent= False, bbox_inches= 'tight', dpi= 400)\n",
    "plt.show()\n",
    "\n",
    "print('Classification Report\\n')\n",
    "target_names = list(test_generator.class_indices.keys())\n",
    "print(classification_report(test_generator.classes, y_pred, target_names=target_names))"
   ]
  },
  {
   "cell_type": "code",
   "execution_count": null,
   "metadata": {},
   "outputs": [],
   "source": []
  }
 ],
 "metadata": {
  "kernelspec": {
   "display_name": "Python 3",
   "language": "python",
   "name": "python3"
  },
  "language_info": {
   "codemirror_mode": {
    "name": "ipython",
    "version": 3
   },
   "file_extension": ".py",
   "mimetype": "text/x-python",
   "name": "python",
   "nbconvert_exporter": "python",
   "pygments_lexer": "ipython3",
   "version": "3.8.8"
  }
 },
 "nbformat": 4,
 "nbformat_minor": 4
}
